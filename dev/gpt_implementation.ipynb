{
 "cells": [
  {
   "cell_type": "code",
   "execution_count": 23,
   "metadata": {},
   "outputs": [],
   "source": [
    "import pandas as pd\n",
    "from surprise import SVD\n",
    "from surprise import Dataset, Reader\n",
    "from surprise.model_selection import train_test_split\n",
    "from sklearn.feature_extraction.text import TfidfVectorizer\n",
    "from sklearn.metrics.pairwise import linear_kernel\n",
    "from keras.models import Model\n",
    "from keras.layers import Input, Embedding, Flatten, Dense, Concatenate\n",
    "import numpy as np"
   ]
  },
  {
   "cell_type": "markdown",
   "metadata": {},
   "source": [
    "Load MovieLens dataset as an example"
   ]
  },
  {
   "cell_type": "code",
   "execution_count": 24,
   "metadata": {},
   "outputs": [],
   "source": [
    "movies = pd.read_csv(\"movies.csv\")  # Load movie data (movieId, title, genres)\n",
    "ratings = pd.read_csv(\"ratings.csv\")  # Load user ratings (userId, movieId, rating)"
   ]
  },
  {
   "cell_type": "markdown",
   "metadata": {},
   "source": [
    "Step 1: Data Preprocessing (if applicable, depending on the dataset)<br>\n",
    "Data Processing: Convert genres into binary columns using one-hot encoding<br>\n",
    "Split the 'genres' column containing pipe-separated genres into binary columns for each genre"
   ]
  },
  {
   "cell_type": "code",
   "execution_count": 25,
   "metadata": {},
   "outputs": [],
   "source": [
    "genres_list = movies[\"genres\"].str.get_dummies(sep=\"|\")\n",
    "# Concatenate the binary genre columns back to the 'movies' DataFrame\n",
    "movies = pd.concat([movies, genres_list], axis=1)"
   ]
  },
  {
   "cell_type": "markdown",
   "metadata": {},
   "source": [
    "Step 2: Handling Missing Values (if applicable, depending on the dataset)<br>\n",
    "Handling Missing Values: Fill missing values in the 'rating' column with the mean rating<br>\n",
    "Calculate the mean rating from the 'rating' column"
   ]
  },
  {
   "cell_type": "code",
   "execution_count": 26,
   "metadata": {},
   "outputs": [],
   "source": [
    "mean_rating = ratings[\"rating\"].mean()\n",
    "# Fill the missing values in the 'rating' column with the calculated mean rating\n",
    "ratings[\"rating\"].fillna(mean_rating, inplace=True)"
   ]
  },
  {
   "cell_type": "markdown",
   "metadata": {},
   "source": [
    "Collaborative Filtering with Surprise<br>\n",
    "Step 3: Create a Surprise Reader with the rating scale (minimum and maximum ratings)"
   ]
  },
  {
   "cell_type": "code",
   "execution_count": 27,
   "metadata": {},
   "outputs": [],
   "source": [
    "reader = Reader(rating_scale=(0.5, 5.0))"
   ]
  },
  {
   "cell_type": "markdown",
   "metadata": {},
   "source": [
    "Step 4: Load the user ratings data into a Surprise Dataset using the Reader"
   ]
  },
  {
   "cell_type": "code",
   "execution_count": 28,
   "metadata": {},
   "outputs": [],
   "source": [
    "data = Dataset.load_from_df(ratings[[\"userId\", \"movieId\", \"rating\"]], reader)"
   ]
  },
  {
   "cell_type": "markdown",
   "metadata": {},
   "source": [
    "Step 5: Split the dataset into training and testing sets for evaluation"
   ]
  },
  {
   "cell_type": "code",
   "execution_count": 29,
   "metadata": {},
   "outputs": [],
   "source": [
    "trainset, testset = train_test_split(data, test_size=0.2)"
   ]
  },
  {
   "cell_type": "markdown",
   "metadata": {},
   "source": [
    "Step 6: Use SVD (Singular Value Decomposition) for collaborative filtering"
   ]
  },
  {
   "cell_type": "code",
   "execution_count": 30,
   "metadata": {},
   "outputs": [
    {
     "data": {
      "text/plain": [
       "<surprise.prediction_algorithms.matrix_factorization.SVD at 0x7f5c0713f070>"
      ]
     },
     "execution_count": 30,
     "metadata": {},
     "output_type": "execute_result"
    }
   ],
   "source": [
    "svd = SVD()\n",
    "svd.fit(trainset)"
   ]
  },
  {
   "cell_type": "markdown",
   "metadata": {},
   "source": [
    "Content-Based Filtering with TF-IDF<br>\n",
    "Step 7: Create a TF-IDF vectorizer for content-based filtering"
   ]
  },
  {
   "cell_type": "code",
   "execution_count": 31,
   "metadata": {},
   "outputs": [],
   "source": [
    "tfidf_vectorizer = TfidfVectorizer(stop_words=\"english\")"
   ]
  },
  {
   "cell_type": "markdown",
   "metadata": {},
   "source": [
    "Step 8: Preprocess the 'genres' column in the 'movies' DataFrame (remove '|' separator)"
   ]
  },
  {
   "cell_type": "code",
   "execution_count": 32,
   "metadata": {},
   "outputs": [],
   "source": [
    "movies[\"genres\"] = movies[\"genres\"].str.replace(\"|\", \" \")"
   ]
  },
  {
   "cell_type": "markdown",
   "metadata": {},
   "source": [
    "Step 9: Create the TF-IDF matrix for content-based filtering using the 'genres' column"
   ]
  },
  {
   "cell_type": "code",
   "execution_count": 33,
   "metadata": {},
   "outputs": [],
   "source": [
    "tfidf_matrix = tfidf_vectorizer.fit_transform(movies[\"genres\"])"
   ]
  },
  {
   "cell_type": "markdown",
   "metadata": {},
   "source": [
    "Step 10: Compute the cosine similarity between TF-IDF vectors for content-based filtering"
   ]
  },
  {
   "cell_type": "code",
   "execution_count": 34,
   "metadata": {},
   "outputs": [],
   "source": [
    "cosine_sim = linear_kernel(tfidf_matrix, tfidf_matrix)"
   ]
  },
  {
   "cell_type": "markdown",
   "metadata": {},
   "source": [
    "Deep Learning Model for Neural Collaborative Filtering (NCF)<br>\n",
    "Step 11: Create a neural collaborative filtering model"
   ]
  },
  {
   "cell_type": "code",
   "execution_count": 14,
   "metadata": {},
   "outputs": [],
   "source": [
    "def create_ncf_model(num_users, num_movies, latent_dim=128):\n",
    "    user_input = Input(shape=(1,))\n",
    "    movie_input = Input(shape=(1,))\n",
    "    user_embedding = Embedding(input_dim=num_users, output_dim=latent_dim, input_length=1)(user_input)\n",
    "    movie_embedding = Embedding(input_dim=num_movies, output_dim=latent_dim, input_length=1)(movie_input)\n",
    "    user_flatten = Flatten()(user_embedding)\n",
    "    movie_flatten = Flatten()(movie_embedding)\n",
    "    concat = Concatenate()([user_flatten, movie_flatten])\n",
    "    dense_1 = Dense(64, activation='relu')(concat)\n",
    "    dense_2 = Dense(32, activation='relu')(dense_1)\n",
    "    output = Dense(1)(dense_2)\n",
    "    model = Model(inputs=[user_input, movie_input], outputs=output)\n",
    "    model.compile(optimizer='adam', loss='mean_squared_error')\n",
    "    return model"
   ]
  },
  {
   "cell_type": "markdown",
   "metadata": {},
   "source": [
    "Step 12: Create user and movie index mapping"
   ]
  },
  {
   "cell_type": "code",
   "execution_count": 15,
   "metadata": {},
   "outputs": [
    {
     "data": {
      "text/plain": [
       "{1: 0, 2: 1}"
      ]
     },
     "execution_count": 15,
     "metadata": {},
     "output_type": "execute_result"
    }
   ],
   "source": [
    "user_to_idx = {user_id: idx for idx, user_id in enumerate(ratings[\"userId\"].unique())}\n",
    "movie_to_idx = {movie_id: idx for idx, movie_id in enumerate(ratings[\"movieId\"].unique())}\n",
    "user_to_idx\n"
   ]
  },
  {
   "cell_type": "markdown",
   "metadata": {},
   "source": [
    "Step 15: Train the model using real data<br>\n",
    "Map user and movie IDs to their respective indices for training"
   ]
  },
  {
   "cell_type": "code",
   "execution_count": 35,
   "metadata": {},
   "outputs": [
    {
     "data": {
      "text/plain": [
       "0      0\n",
       "1      1\n",
       "2      2\n",
       "3      3\n",
       "4      4\n",
       "5      5\n",
       "6      6\n",
       "7      7\n",
       "8      8\n",
       "9      9\n",
       "10     0\n",
       "11     1\n",
       "12     2\n",
       "13     3\n",
       "14     4\n",
       "15     5\n",
       "16     6\n",
       "17     7\n",
       "18     8\n",
       "19     9\n",
       "20    10\n",
       "21    11\n",
       "Name: movieId, dtype: int64"
      ]
     },
     "execution_count": 35,
     "metadata": {},
     "output_type": "execute_result"
    }
   ],
   "source": [
    "X_train_user_indices = ratings[\"userId\"].map(user_to_idx)\n",
    "X_train_movie_indices = ratings[\"movieId\"].map(movie_to_idx)\n",
    "X_train_movie_indices"
   ]
  },
  {
   "cell_type": "markdown",
   "metadata": {},
   "source": [
    "Use the same ratings data for the target labels"
   ]
  },
  {
   "cell_type": "code",
   "execution_count": 36,
   "metadata": {},
   "outputs": [
    {
     "data": {
      "text/plain": [
       "0     5.0\n",
       "1     3.0\n",
       "2     4.5\n",
       "3     4.0\n",
       "4     4.0\n",
       "5     1.0\n",
       "6     4.0\n",
       "7     1.5\n",
       "8     1.5\n",
       "9     5.0\n",
       "10    1.0\n",
       "11    2.5\n",
       "12    3.0\n",
       "13    2.0\n",
       "14    2.5\n",
       "15    4.0\n",
       "16    3.5\n",
       "17    4.0\n",
       "18    4.5\n",
       "19    4.0\n",
       "20    1.0\n",
       "21    4.0\n",
       "Name: rating, dtype: float64"
      ]
     },
     "execution_count": 36,
     "metadata": {},
     "output_type": "execute_result"
    }
   ],
   "source": [
    "y_train = ratings[\"rating\"]\n",
    "y_train\n"
   ]
  },
  {
   "cell_type": "markdown",
   "metadata": {},
   "source": [
    "Create the NCF model"
   ]
  },
  {
   "cell_type": "code",
   "execution_count": 37,
   "metadata": {},
   "outputs": [
    {
     "data": {
      "image/png": "[encoded data removed]",
      "text/plain": [
       "<IPython.core.display.Image object>"
      ]
     },
     "execution_count": 37,
     "metadata": {},
     "output_type": "execute_result"
    }
   ],
   "source": [
    "\n",
    "import tensorflow as tf\n",
    "import matplotlib.pyplot as plt\n",
    "from tensorflow.keras.layers import Input, Embedding, Flatten, Concatenate, Dense\n",
    "from tensorflow.keras.models import Model\n",
    "from tensorflow.keras.utils import plot_model\n",
    "\n",
    "ncf_model = create_ncf_model(num_users=len(user_to_idx), num_movies=len(movie_to_idx))\n",
    "#plot_model(ncf_model, to_file='ncf_model_architecture.png', show_shapes=True, show_layer_names=True)\n",
    "plot_model(\n",
    "    ncf_model,\n",
    "    show_shapes=True,\n",
    "    show_layer_names=True,\n",
    "    rankdir='LR',  # Left-to-right layout\n",
    "    expand_nested=True,  # Expand nested models\n",
    "    dpi=96,  # Higher resolution for saved image (if any)\n",
    "    to_file='ncf_model_architecture.png'  # Save the image with the specified filename\n",
    ")"
   ]
  },
  {
   "cell_type": "markdown",
   "metadata": {},
   "source": [
    "Train the NCF model using user and movie indices"
   ]
  },
  {
   "cell_type": "code",
   "execution_count": 38,
   "metadata": {},
   "outputs": [
    {
     "name": "stdout",
     "output_type": "stream",
     "text": [
      "Epoch 1/200\n"
     ]
    },
    {
     "name": "stdout",
     "output_type": "stream",
     "text": [
      "1/1 [==============================] - 1s 889ms/step - loss: 11.7095\n",
      "Epoch 2/200\n",
      "1/1 [==============================] - 0s 7ms/step - loss: 11.4805\n",
      "Epoch 3/200\n",
      "1/1 [==============================] - 0s 7ms/step - loss: 11.2733\n",
      "Epoch 4/200\n",
      "1/1 [==============================] - 0s 6ms/step - loss: 11.0851\n",
      "Epoch 5/200\n",
      "1/1 [==============================] - 0s 7ms/step - loss: 10.9081\n",
      "Epoch 6/200\n",
      "1/1 [==============================] - 0s 7ms/step - loss: 10.7219\n",
      "Epoch 7/200\n",
      "1/1 [==============================] - 0s 7ms/step - loss: 10.5248\n",
      "Epoch 8/200\n",
      "1/1 [==============================] - 0s 7ms/step - loss: 10.3139\n",
      "Epoch 9/200\n",
      "1/1 [==============================] - 0s 6ms/step - loss: 10.0873\n",
      "Epoch 10/200\n",
      "1/1 [==============================] - 0s 6ms/step - loss: 9.8466\n",
      "Epoch 11/200\n",
      "1/1 [==============================] - 0s 6ms/step - loss: 9.5882\n",
      "Epoch 12/200\n",
      "1/1 [==============================] - 0s 5ms/step - loss: 9.3113\n",
      "Epoch 13/200\n",
      "1/1 [==============================] - 0s 6ms/step - loss: 9.0124\n",
      "Epoch 14/200\n",
      "1/1 [==============================] - 0s 6ms/step - loss: 8.6945\n",
      "Epoch 15/200\n",
      "1/1 [==============================] - 0s 5ms/step - loss: 8.3565\n",
      "Epoch 16/200\n",
      "1/1 [==============================] - 0s 5ms/step - loss: 7.9996\n",
      "Epoch 17/200\n",
      "1/1 [==============================] - 0s 6ms/step - loss: 7.6253\n",
      "Epoch 18/200\n",
      "1/1 [==============================] - 0s 5ms/step - loss: 7.2339\n",
      "Epoch 19/200\n",
      "1/1 [==============================] - 0s 6ms/step - loss: 6.8215\n",
      "Epoch 20/200\n",
      "1/1 [==============================] - 0s 5ms/step - loss: 6.3908\n",
      "Epoch 21/200\n",
      "1/1 [==============================] - 0s 5ms/step - loss: 5.9454\n",
      "Epoch 22/200\n",
      "1/1 [==============================] - 0s 5ms/step - loss: 5.4875\n",
      "Epoch 23/200\n",
      "1/1 [==============================] - 0s 6ms/step - loss: 5.0194\n",
      "Epoch 24/200\n",
      "1/1 [==============================] - 0s 6ms/step - loss: 4.5460\n",
      "Epoch 25/200\n",
      "1/1 [==============================] - 0s 6ms/step - loss: 4.0743\n",
      "Epoch 26/200\n",
      "1/1 [==============================] - 0s 6ms/step - loss: 3.6140\n",
      "Epoch 27/200\n",
      "1/1 [==============================] - 0s 5ms/step - loss: 3.1731\n",
      "Epoch 28/200\n",
      "1/1 [==============================] - 0s 5ms/step - loss: 2.7617\n",
      "Epoch 29/200\n",
      "1/1 [==============================] - 0s 5ms/step - loss: 2.3926\n",
      "Epoch 30/200\n",
      "1/1 [==============================] - 0s 5ms/step - loss: 2.0786\n",
      "Epoch 31/200\n",
      "1/1 [==============================] - 0s 5ms/step - loss: 1.8306\n",
      "Epoch 32/200\n",
      "1/1 [==============================] - 0s 6ms/step - loss: 1.6589\n",
      "Epoch 33/200\n",
      "1/1 [==============================] - 0s 6ms/step - loss: 1.5677\n",
      "Epoch 34/200\n",
      "1/1 [==============================] - 0s 6ms/step - loss: 1.5535\n",
      "Epoch 35/200\n",
      "1/1 [==============================] - 0s 6ms/step - loss: 1.6014\n",
      "Epoch 36/200\n",
      "1/1 [==============================] - 0s 5ms/step - loss: 1.6861\n",
      "Epoch 37/200\n",
      "1/1 [==============================] - 0s 5ms/step - loss: 1.7763\n",
      "Epoch 38/200\n",
      "1/1 [==============================] - 0s 6ms/step - loss: 1.8429\n",
      "Epoch 39/200\n",
      "1/1 [==============================] - 0s 6ms/step - loss: 1.8669\n",
      "Epoch 40/200\n",
      "1/1 [==============================] - 0s 6ms/step - loss: 1.8427\n",
      "Epoch 41/200\n",
      "1/1 [==============================] - 0s 6ms/step - loss: 1.7759\n",
      "Epoch 42/200\n",
      "1/1 [==============================] - 0s 6ms/step - loss: 1.6798\n",
      "Epoch 43/200\n",
      "1/1 [==============================] - 0s 5ms/step - loss: 1.5698\n",
      "Epoch 44/200\n",
      "1/1 [==============================] - 0s 6ms/step - loss: 1.4604\n",
      "Epoch 45/200\n",
      "1/1 [==============================] - 0s 5ms/step - loss: 1.3632\n",
      "Epoch 46/200\n",
      "1/1 [==============================] - 0s 5ms/step - loss: 1.2850\n",
      "Epoch 47/200\n",
      "1/1 [==============================] - 0s 5ms/step - loss: 1.2287\n",
      "Epoch 48/200\n",
      "1/1 [==============================] - 0s 6ms/step - loss: 1.1932\n",
      "Epoch 49/200\n",
      "1/1 [==============================] - 0s 5ms/step - loss: 1.1759\n",
      "Epoch 50/200\n",
      "1/1 [==============================] - 0s 6ms/step - loss: 1.1720\n",
      "Epoch 51/200\n",
      "1/1 [==============================] - 0s 5ms/step - loss: 1.1765\n",
      "Epoch 52/200\n",
      "1/1 [==============================] - 0s 7ms/step - loss: 1.1849\n",
      "Epoch 53/200\n",
      "1/1 [==============================] - 0s 6ms/step - loss: 1.1934\n",
      "Epoch 54/200\n",
      "1/1 [==============================] - 0s 6ms/step - loss: 1.1996\n",
      "Epoch 55/200\n",
      "1/1 [==============================] - 0s 5ms/step - loss: 1.2013\n",
      "Epoch 56/200\n",
      "1/1 [==============================] - 0s 5ms/step - loss: 1.1983\n",
      "Epoch 57/200\n",
      "1/1 [==============================] - 0s 5ms/step - loss: 1.1903\n",
      "Epoch 58/200\n",
      "1/1 [==============================] - 0s 6ms/step - loss: 1.1784\n",
      "Epoch 59/200\n",
      "1/1 [==============================] - 0s 4ms/step - loss: 1.1635\n",
      "Epoch 60/200\n",
      "1/1 [==============================] - 0s 6ms/step - loss: 1.1473\n",
      "Epoch 61/200\n",
      "1/1 [==============================] - 0s 6ms/step - loss: 1.1312\n",
      "Epoch 62/200\n",
      "1/1 [==============================] - 0s 6ms/step - loss: 1.1166\n",
      "Epoch 63/200\n",
      "1/1 [==============================] - 0s 7ms/step - loss: 1.1050\n",
      "Epoch 64/200\n",
      "1/1 [==============================] - 0s 6ms/step - loss: 1.0968\n",
      "Epoch 65/200\n",
      "1/1 [==============================] - 0s 5ms/step - loss: 1.0922\n",
      "Epoch 66/200\n",
      "1/1 [==============================] - 0s 5ms/step - loss: 1.0906\n",
      "Epoch 67/200\n",
      "1/1 [==============================] - 0s 5ms/step - loss: 1.0912\n",
      "Epoch 68/200\n",
      "1/1 [==============================] - 0s 5ms/step - loss: 1.0928\n",
      "Epoch 69/200\n",
      "1/1 [==============================] - 0s 6ms/step - loss: 1.0942\n",
      "Epoch 70/200\n",
      "1/1 [==============================] - 0s 6ms/step - loss: 1.0943\n",
      "Epoch 71/200\n",
      "1/1 [==============================] - 0s 5ms/step - loss: 1.0928\n",
      "Epoch 72/200\n",
      "1/1 [==============================] - 0s 7ms/step - loss: 1.0894\n",
      "Epoch 73/200\n",
      "1/1 [==============================] - 0s 6ms/step - loss: 1.0844\n",
      "Epoch 74/200\n",
      "1/1 [==============================] - 0s 7ms/step - loss: 1.0780\n",
      "Epoch 75/200\n",
      "1/1 [==============================] - 0s 7ms/step - loss: 1.0709\n",
      "Epoch 76/200\n",
      "1/1 [==============================] - 0s 7ms/step - loss: 1.0639\n",
      "Epoch 77/200\n",
      "1/1 [==============================] - 0s 5ms/step - loss: 1.0572\n",
      "Epoch 78/200\n",
      "1/1 [==============================] - 0s 4ms/step - loss: 1.0512\n",
      "Epoch 79/200\n",
      "1/1 [==============================] - 0s 6ms/step - loss: 1.0456\n",
      "Epoch 80/200\n",
      "1/1 [==============================] - 0s 6ms/step - loss: 1.0405\n",
      "Epoch 81/200\n",
      "1/1 [==============================] - 0s 5ms/step - loss: 1.0356\n",
      "Epoch 82/200\n",
      "1/1 [==============================] - 0s 5ms/step - loss: 1.0309\n",
      "Epoch 83/200\n",
      "1/1 [==============================] - 0s 5ms/step - loss: 1.0261\n",
      "Epoch 84/200\n",
      "1/1 [==============================] - 0s 5ms/step - loss: 1.0208\n",
      "Epoch 85/200\n",
      "1/1 [==============================] - 0s 6ms/step - loss: 1.0150\n",
      "Epoch 86/200\n",
      "1/1 [==============================] - 0s 5ms/step - loss: 1.0088\n",
      "Epoch 87/200\n",
      "1/1 [==============================] - 0s 5ms/step - loss: 1.0023\n",
      "Epoch 88/200\n",
      "1/1 [==============================] - 0s 6ms/step - loss: 0.9952\n",
      "Epoch 89/200\n",
      "1/1 [==============================] - 0s 7ms/step - loss: 0.9874\n",
      "Epoch 90/200\n",
      "1/1 [==============================] - 0s 7ms/step - loss: 0.9790\n",
      "Epoch 91/200\n",
      "1/1 [==============================] - 0s 5ms/step - loss: 0.9702\n",
      "Epoch 92/200\n",
      "1/1 [==============================] - 0s 5ms/step - loss: 0.9610\n",
      "Epoch 93/200\n",
      "1/1 [==============================] - 0s 5ms/step - loss: 0.9514\n",
      "Epoch 94/200\n",
      "1/1 [==============================] - 0s 6ms/step - loss: 0.9416\n",
      "Epoch 95/200\n",
      "1/1 [==============================] - 0s 6ms/step - loss: 0.9314\n",
      "Epoch 96/200\n",
      "1/1 [==============================] - 0s 5ms/step - loss: 0.9209\n",
      "Epoch 97/200\n",
      "1/1 [==============================] - 0s 7ms/step - loss: 0.9098\n",
      "Epoch 98/200\n",
      "1/1 [==============================] - 0s 5ms/step - loss: 0.8984\n",
      "Epoch 99/200\n",
      "1/1 [==============================] - 0s 6ms/step - loss: 0.8867\n",
      "Epoch 100/200\n",
      "1/1 [==============================] - 0s 5ms/step - loss: 0.8748\n",
      "Epoch 101/200\n",
      "1/1 [==============================] - 0s 6ms/step - loss: 0.8623\n",
      "Epoch 102/200\n",
      "1/1 [==============================] - 0s 6ms/step - loss: 0.8491\n",
      "Epoch 103/200\n",
      "1/1 [==============================] - 0s 6ms/step - loss: 0.8358\n",
      "Epoch 104/200\n",
      "1/1 [==============================] - 0s 5ms/step - loss: 0.8219\n",
      "Epoch 105/200\n",
      "1/1 [==============================] - 0s 6ms/step - loss: 0.8075\n",
      "Epoch 106/200\n",
      "1/1 [==============================] - 0s 5ms/step - loss: 0.7927\n",
      "Epoch 107/200\n",
      "1/1 [==============================] - 0s 5ms/step - loss: 0.7774\n",
      "Epoch 108/200\n",
      "1/1 [==============================] - 0s 5ms/step - loss: 0.7616\n",
      "Epoch 109/200\n",
      "1/1 [==============================] - 0s 6ms/step - loss: 0.7453\n",
      "Epoch 110/200\n",
      "1/1 [==============================] - 0s 6ms/step - loss: 0.7285\n",
      "Epoch 111/200\n",
      "1/1 [==============================] - 0s 6ms/step - loss: 0.7115\n",
      "Epoch 112/200\n",
      "1/1 [==============================] - 0s 6ms/step - loss: 0.6942\n",
      "Epoch 113/200\n",
      "1/1 [==============================] - 0s 7ms/step - loss: 0.6766\n",
      "Epoch 114/200\n",
      "1/1 [==============================] - 0s 7ms/step - loss: 0.6589\n",
      "Epoch 115/200\n",
      "1/1 [==============================] - 0s 7ms/step - loss: 0.6408\n",
      "Epoch 116/200\n",
      "1/1 [==============================] - 0s 7ms/step - loss: 0.6223\n",
      "Epoch 117/200\n",
      "1/1 [==============================] - 0s 6ms/step - loss: 0.6037\n",
      "Epoch 118/200\n",
      "1/1 [==============================] - 0s 7ms/step - loss: 0.5847\n",
      "Epoch 119/200\n",
      "1/1 [==============================] - 0s 7ms/step - loss: 0.5654\n",
      "Epoch 120/200\n",
      "1/1 [==============================] - 0s 7ms/step - loss: 0.5458\n",
      "Epoch 121/200\n",
      "1/1 [==============================] - 0s 7ms/step - loss: 0.5260\n",
      "Epoch 122/200\n",
      "1/1 [==============================] - 0s 7ms/step - loss: 0.5060\n",
      "Epoch 123/200\n",
      "1/1 [==============================] - 0s 7ms/step - loss: 0.4856\n",
      "Epoch 124/200\n",
      "1/1 [==============================] - 0s 7ms/step - loss: 0.4650\n",
      "Epoch 125/200\n",
      "1/1 [==============================] - 0s 6ms/step - loss: 0.4445\n",
      "Epoch 126/200\n",
      "1/1 [==============================] - 0s 5ms/step - loss: 0.4239\n",
      "Epoch 127/200\n",
      "1/1 [==============================] - 0s 6ms/step - loss: 0.4036\n",
      "Epoch 128/200\n",
      "1/1 [==============================] - 0s 6ms/step - loss: 0.3833\n",
      "Epoch 129/200\n",
      "1/1 [==============================] - 0s 6ms/step - loss: 0.3631\n",
      "Epoch 130/200\n",
      "1/1 [==============================] - 0s 6ms/step - loss: 0.3428\n",
      "Epoch 131/200\n",
      "1/1 [==============================] - 0s 5ms/step - loss: 0.3225\n",
      "Epoch 132/200\n",
      "1/1 [==============================] - 0s 5ms/step - loss: 0.3024\n",
      "Epoch 133/200\n",
      "1/1 [==============================] - 0s 6ms/step - loss: 0.2827\n",
      "Epoch 134/200\n",
      "1/1 [==============================] - 0s 6ms/step - loss: 0.2636\n",
      "Epoch 135/200\n",
      "1/1 [==============================] - 0s 5ms/step - loss: 0.2450\n",
      "Epoch 136/200\n",
      "1/1 [==============================] - 0s 4ms/step - loss: 0.2270\n",
      "Epoch 137/200\n",
      "1/1 [==============================] - 0s 6ms/step - loss: 0.2095\n",
      "Epoch 138/200\n",
      "1/1 [==============================] - 0s 7ms/step - loss: 0.1929\n",
      "Epoch 139/200\n",
      "1/1 [==============================] - 0s 7ms/step - loss: 0.1768\n",
      "Epoch 140/200\n",
      "1/1 [==============================] - 0s 6ms/step - loss: 0.1615\n",
      "Epoch 141/200\n",
      "1/1 [==============================] - 0s 6ms/step - loss: 0.1471\n",
      "Epoch 142/200\n",
      "1/1 [==============================] - 0s 7ms/step - loss: 0.1336\n",
      "Epoch 143/200\n",
      "1/1 [==============================] - 0s 6ms/step - loss: 0.1209\n",
      "Epoch 144/200\n",
      "1/1 [==============================] - 0s 5ms/step - loss: 0.1091\n",
      "Epoch 145/200\n",
      "1/1 [==============================] - 0s 5ms/step - loss: 0.0984\n",
      "Epoch 146/200\n",
      "1/1 [==============================] - 0s 5ms/step - loss: 0.0887\n",
      "Epoch 147/200\n",
      "1/1 [==============================] - 0s 5ms/step - loss: 0.0796\n",
      "Epoch 148/200\n",
      "1/1 [==============================] - 0s 5ms/step - loss: 0.0713\n",
      "Epoch 149/200\n",
      "1/1 [==============================] - 0s 5ms/step - loss: 0.0637\n",
      "Epoch 150/200\n",
      "1/1 [==============================] - 0s 5ms/step - loss: 0.0567\n",
      "Epoch 151/200\n",
      "1/1 [==============================] - 0s 6ms/step - loss: 0.0505\n",
      "Epoch 152/200\n",
      "1/1 [==============================] - 0s 6ms/step - loss: 0.0450\n",
      "Epoch 153/200\n",
      "1/1 [==============================] - 0s 7ms/step - loss: 0.0400\n",
      "Epoch 154/200\n",
      "1/1 [==============================] - 0s 6ms/step - loss: 0.0355\n",
      "Epoch 155/200\n",
      "1/1 [==============================] - 0s 5ms/step - loss: 0.0314\n",
      "Epoch 156/200\n",
      "1/1 [==============================] - 0s 5ms/step - loss: 0.0275\n",
      "Epoch 157/200\n",
      "1/1 [==============================] - 0s 5ms/step - loss: 0.0240\n",
      "Epoch 158/200\n",
      "1/1 [==============================] - 0s 5ms/step - loss: 0.0209\n",
      "Epoch 159/200\n",
      "1/1 [==============================] - 0s 5ms/step - loss: 0.0180\n",
      "Epoch 160/200\n",
      "1/1 [==============================] - 0s 5ms/step - loss: 0.0153\n",
      "Epoch 161/200\n",
      "1/1 [==============================] - 0s 5ms/step - loss: 0.0129\n",
      "Epoch 162/200\n",
      "1/1 [==============================] - 0s 6ms/step - loss: 0.0109\n",
      "Epoch 163/200\n",
      "1/1 [==============================] - 0s 6ms/step - loss: 0.0092\n",
      "Epoch 164/200\n",
      "1/1 [==============================] - 0s 5ms/step - loss: 0.0077\n",
      "Epoch 165/200\n",
      "1/1 [==============================] - 0s 5ms/step - loss: 0.0062\n",
      "Epoch 166/200\n",
      "1/1 [==============================] - 0s 5ms/step - loss: 0.0049\n",
      "Epoch 167/200\n",
      "1/1 [==============================] - 0s 5ms/step - loss: 0.0038\n",
      "Epoch 168/200\n",
      "1/1 [==============================] - 0s 6ms/step - loss: 0.0029\n",
      "Epoch 169/200\n",
      "1/1 [==============================] - 0s 7ms/step - loss: 0.0022\n",
      "Epoch 170/200\n",
      "1/1 [==============================] - 0s 6ms/step - loss: 0.0016\n",
      "Epoch 171/200\n",
      "1/1 [==============================] - 0s 6ms/step - loss: 0.0013\n",
      "Epoch 172/200\n",
      "1/1 [==============================] - 0s 6ms/step - loss: 0.0010\n",
      "Epoch 173/200\n",
      "1/1 [==============================] - 0s 6ms/step - loss: 8.3744e-04\n",
      "Epoch 174/200\n",
      "1/1 [==============================] - 0s 8ms/step - loss: 7.2501e-04\n",
      "Epoch 175/200\n",
      "1/1 [==============================] - 0s 7ms/step - loss: 6.5448e-04\n",
      "Epoch 176/200\n",
      "1/1 [==============================] - 0s 8ms/step - loss: 6.1867e-04\n",
      "Epoch 177/200\n",
      "1/1 [==============================] - 0s 8ms/step - loss: 6.0808e-04\n",
      "Epoch 178/200\n",
      "1/1 [==============================] - 0s 8ms/step - loss: 6.1317e-04\n",
      "Epoch 179/200\n",
      "1/1 [==============================] - 0s 6ms/step - loss: 6.2450e-04\n",
      "Epoch 180/200\n",
      "1/1 [==============================] - 0s 7ms/step - loss: 6.3417e-04\n",
      "Epoch 181/200\n",
      "1/1 [==============================] - 0s 8ms/step - loss: 6.3942e-04\n",
      "Epoch 182/200\n",
      "1/1 [==============================] - 0s 8ms/step - loss: 6.4052e-04\n",
      "Epoch 183/200\n",
      "1/1 [==============================] - 0s 7ms/step - loss: 6.3813e-04\n",
      "Epoch 184/200\n",
      "1/1 [==============================] - 0s 6ms/step - loss: 6.3343e-04\n",
      "Epoch 185/200\n",
      "1/1 [==============================] - 0s 6ms/step - loss: 6.2557e-04\n",
      "Epoch 186/200\n",
      "1/1 [==============================] - 0s 5ms/step - loss: 6.1195e-04\n",
      "Epoch 187/200\n",
      "1/1 [==============================] - 0s 5ms/step - loss: 5.8977e-04\n",
      "Epoch 188/200\n",
      "1/1 [==============================] - 0s 5ms/step - loss: 5.5758e-04\n",
      "Epoch 189/200\n",
      "1/1 [==============================] - 0s 5ms/step - loss: 5.1610e-04\n",
      "Epoch 190/200\n",
      "1/1 [==============================] - 0s 5ms/step - loss: 4.6803e-04\n",
      "Epoch 191/200\n",
      "1/1 [==============================] - 0s 5ms/step - loss: 4.1684e-04\n",
      "Epoch 192/200\n",
      "1/1 [==============================] - 0s 6ms/step - loss: 3.6553e-04\n",
      "Epoch 193/200\n",
      "1/1 [==============================] - 0s 5ms/step - loss: 3.1643e-04\n",
      "Epoch 194/200\n",
      "1/1 [==============================] - 0s 6ms/step - loss: 2.7045e-04\n",
      "Epoch 195/200\n",
      "1/1 [==============================] - 0s 6ms/step - loss: 2.2781e-04\n",
      "Epoch 196/200\n",
      "1/1 [==============================] - 0s 6ms/step - loss: 1.8880e-04\n",
      "Epoch 197/200\n",
      "1/1 [==============================] - 0s 5ms/step - loss: 1.5395e-04\n",
      "Epoch 198/200\n",
      "1/1 [==============================] - 0s 6ms/step - loss: 1.2395e-04\n",
      "Epoch 199/200\n",
      "1/1 [==============================] - 0s 5ms/step - loss: 9.9252e-05\n",
      "Epoch 200/200\n",
      "1/1 [==============================] - 0s 5ms/step - loss: 7.9890e-05\n"
     ]
    },
    {
     "data": {
      "text/plain": [
       "<keras.src.callbacks.History at 0x7f5bf438a8f0>"
      ]
     },
     "execution_count": 38,
     "metadata": {},
     "output_type": "execute_result"
    }
   ],
   "source": [
    "ncf_model.fit([X_train_user_indices, X_train_movie_indices], y_train, epochs=200, batch_size=64)"
   ]
  },
  {
   "cell_type": "markdown",
   "metadata": {},
   "source": [
    "Modified Optimized Recommendation Function to use NCF Model"
   ]
  },
  {
   "cell_type": "code",
   "execution_count": 39,
   "metadata": {},
   "outputs": [],
   "source": [
    "def get_recommendations(user_id, num_recommendations=3):\n",
    "    # Collaborative Filtering with NCF\n",
    "    # Get the movies watched by the user with 'user_id' from the 'ratings' DataFrame\n",
    "    user_movies = ratings[ratings[\"userId\"] == user_id][\"movieId\"]\n",
    "    # Convert user and movie IDs to their respective indices for NCF model\n",
    "    user_idx = user_to_idx[user_id]\n",
    "    movie_indices = [movie_to_idx[movie_id] for movie_id in user_movies]\n",
    "\n",
    "    # Predict ratings for the user and unrated movies using the NCF model\n",
    "    user_ratings = [ncf_model.predict([[user_idx], [movie_idx]])[0][0] for movie_idx in range(len(movie_to_idx))]\n",
    "    unrated_movies = [movie_idx for movie_idx in range(len(movie_to_idx)) if movie_idx not in movie_indices]\n",
    "\n",
    "    # Combine Collaborative and Content-Based Recommendations (same as before)\n",
    "    collab_recommendations = [\n",
    "        (movieId, svd.predict(user_id, movieId).est)\n",
    "        for movieId in movies[\"movieId\"]\n",
    "        if movieId not in user_movies\n",
    "    ]\n",
    "    collab_recommendations.sort(key=lambda x: x[1], reverse=True)\n",
    "    movie_indices = [\n",
    "        movies[movies[\"movieId\"] == movie_id].index[0] for movie_id in user_movies\n",
    "    ]\n",
    "    similar_movies = list(enumerate(cosine_sim[movie_indices[-1]]))\n",
    "    content_predictions = [\n",
    "        (movies.iloc[i][\"movieId\"], score)\n",
    "        for i, score in similar_movies\n",
    "        if i not in movie_indices\n",
    "    ]\n",
    "    content_predictions.sort(key=lambda x: x[1], reverse=True)\n",
    "\n",
    "    # Combine collaborative and content-based recommendations, giving priority to collaborative filtering\n",
    "    hybrid_recommendations = (\n",
    "        collab_recommendations[:num_recommendations]\n",
    "        + content_predictions[:num_recommendations]\n",
    "    )\n",
    "    hybrid_recommendations.sort(key=lambda x: x[1], reverse=True)\n",
    "\n",
    "    # Return the movieIds of the top 'num_recommendations' hybrid recommendations\n",
    "    return [movie_id for movie_id, _ in hybrid_recommendations][:num_recommendations]\n",
    "\n"
   ]
  },
  {
   "cell_type": "code",
   "execution_count": 40,
   "metadata": {},
   "outputs": [
    {
     "data": {
      "text/plain": [
       "1"
      ]
     },
     "execution_count": 40,
     "metadata": {},
     "output_type": "execute_result"
    }
   ],
   "source": [
    "user_id = 2\n",
    "\n",
    "user_to_idx[user_id]"
   ]
  },
  {
   "cell_type": "markdown",
   "metadata": {},
   "source": [
    "Example Usage:"
   ]
  },
  {
   "cell_type": "code",
   "execution_count": 41,
   "metadata": {},
   "outputs": [
    {
     "ename": "ValueError",
     "evalue": "in user code:\n\n    File \"/home/erfan/Documents/Projects/o3/recom_system/dev/.env/lib/python3.10/site-packages/keras/src/engine/training.py\", line 2341, in predict_function  *\n        return step_function(self, iterator)\n    File \"/home/erfan/Documents/Projects/o3/recom_system/dev/.env/lib/python3.10/site-packages/keras/src/engine/training.py\", line 2327, in step_function  **\n        outputs = model.distribute_strategy.run(run_step, args=(data,))\n    File \"/home/erfan/Documents/Projects/o3/recom_system/dev/.env/lib/python3.10/site-packages/keras/src/engine/training.py\", line 2315, in run_step  **\n        outputs = model.predict_step(data)\n    File \"/home/erfan/Documents/Projects/o3/recom_system/dev/.env/lib/python3.10/site-packages/keras/src/engine/training.py\", line 2283, in predict_step\n        return self(x, training=False)\n    File \"/home/erfan/Documents/Projects/o3/recom_system/dev/.env/lib/python3.10/site-packages/keras/src/utils/traceback_utils.py\", line 70, in error_handler\n        raise e.with_traceback(filtered_tb) from None\n    File \"/home/erfan/Documents/Projects/o3/recom_system/dev/.env/lib/python3.10/site-packages/keras/src/engine/input_spec.py\", line 219, in assert_input_compatibility\n        raise ValueError(\n\n    ValueError: Layer \"model_1\" expects 2 input(s), but it received 1 input tensors. Inputs received: [<tf.Tensor 'IteratorGetNext:0' shape=(None, 1) dtype=int64>]\n",
     "output_type": "error",
     "traceback": [
      "\u001b[0;31m---------------------------------------------------------------------------\u001b[0m",
      "\u001b[0;31mValueError\u001b[0m                                Traceback (most recent call last)",
      "Cell \u001b[0;32mIn[41], line 2\u001b[0m\n\u001b[1;32m      1\u001b[0m user_id \u001b[39m=\u001b[39m \u001b[39m2\u001b[39m  \u001b[39m# Replace with the user ID for whom you want\u001b[39;00m\n\u001b[0;32m----> 2\u001b[0m recommendations \u001b[39m=\u001b[39m get_recommendations(user_id)\n\u001b[1;32m      3\u001b[0m \u001b[39mprint\u001b[39m(\u001b[39m\"\u001b[39m\u001b[39mTop Recommendations for User\u001b[39m\u001b[39m\"\u001b[39m, user_id)\n\u001b[1;32m      4\u001b[0m \u001b[39mprint\u001b[39m(recommendations)\n",
      "Cell \u001b[0;32mIn[39], line 10\u001b[0m, in \u001b[0;36mget_recommendations\u001b[0;34m(user_id, num_recommendations)\u001b[0m\n\u001b[1;32m      7\u001b[0m movie_indices \u001b[39m=\u001b[39m [movie_to_idx[movie_id] \u001b[39mfor\u001b[39;00m movie_id \u001b[39min\u001b[39;00m user_movies]\n\u001b[1;32m      9\u001b[0m \u001b[39m# Predict ratings for the user and unrated movies using the NCF model\u001b[39;00m\n\u001b[0;32m---> 10\u001b[0m user_ratings \u001b[39m=\u001b[39m [ncf_model\u001b[39m.\u001b[39mpredict([[user_idx], [movie_idx]])[\u001b[39m0\u001b[39m][\u001b[39m0\u001b[39m] \u001b[39mfor\u001b[39;00m movie_idx \u001b[39min\u001b[39;00m \u001b[39mrange\u001b[39m(\u001b[39mlen\u001b[39m(movie_to_idx))]\n\u001b[1;32m     11\u001b[0m unrated_movies \u001b[39m=\u001b[39m [movie_idx \u001b[39mfor\u001b[39;00m movie_idx \u001b[39min\u001b[39;00m \u001b[39mrange\u001b[39m(\u001b[39mlen\u001b[39m(movie_to_idx)) \u001b[39mif\u001b[39;00m movie_idx \u001b[39mnot\u001b[39;00m \u001b[39min\u001b[39;00m movie_indices]\n\u001b[1;32m     13\u001b[0m \u001b[39m# Combine Collaborative and Content-Based Recommendations (same as before)\u001b[39;00m\n",
      "Cell \u001b[0;32mIn[39], line 10\u001b[0m, in \u001b[0;36m<listcomp>\u001b[0;34m(.0)\u001b[0m\n\u001b[1;32m      7\u001b[0m movie_indices \u001b[39m=\u001b[39m [movie_to_idx[movie_id] \u001b[39mfor\u001b[39;00m movie_id \u001b[39min\u001b[39;00m user_movies]\n\u001b[1;32m      9\u001b[0m \u001b[39m# Predict ratings for the user and unrated movies using the NCF model\u001b[39;00m\n\u001b[0;32m---> 10\u001b[0m user_ratings \u001b[39m=\u001b[39m [ncf_model\u001b[39m.\u001b[39;49mpredict([[user_idx], [movie_idx]])[\u001b[39m0\u001b[39m][\u001b[39m0\u001b[39m] \u001b[39mfor\u001b[39;00m movie_idx \u001b[39min\u001b[39;00m \u001b[39mrange\u001b[39m(\u001b[39mlen\u001b[39m(movie_to_idx))]\n\u001b[1;32m     11\u001b[0m unrated_movies \u001b[39m=\u001b[39m [movie_idx \u001b[39mfor\u001b[39;00m movie_idx \u001b[39min\u001b[39;00m \u001b[39mrange\u001b[39m(\u001b[39mlen\u001b[39m(movie_to_idx)) \u001b[39mif\u001b[39;00m movie_idx \u001b[39mnot\u001b[39;00m \u001b[39min\u001b[39;00m movie_indices]\n\u001b[1;32m     13\u001b[0m \u001b[39m# Combine Collaborative and Content-Based Recommendations (same as before)\u001b[39;00m\n",
      "File \u001b[0;32m~/Documents/Projects/o3/recom_system/dev/.env/lib/python3.10/site-packages/keras/src/utils/traceback_utils.py:70\u001b[0m, in \u001b[0;36mfilter_traceback.<locals>.error_handler\u001b[0;34m(*args, **kwargs)\u001b[0m\n\u001b[1;32m     67\u001b[0m     filtered_tb \u001b[39m=\u001b[39m _process_traceback_frames(e\u001b[39m.\u001b[39m__traceback__)\n\u001b[1;32m     68\u001b[0m     \u001b[39m# To get the full stack trace, call:\u001b[39;00m\n\u001b[1;32m     69\u001b[0m     \u001b[39m# `tf.debugging.disable_traceback_filtering()`\u001b[39;00m\n\u001b[0;32m---> 70\u001b[0m     \u001b[39mraise\u001b[39;00m e\u001b[39m.\u001b[39mwith_traceback(filtered_tb) \u001b[39mfrom\u001b[39;00m \u001b[39mNone\u001b[39;00m\n\u001b[1;32m     71\u001b[0m \u001b[39mfinally\u001b[39;00m:\n\u001b[1;32m     72\u001b[0m     \u001b[39mdel\u001b[39;00m filtered_tb\n",
      "File \u001b[0;32m/tmp/__autograph_generated_filecta1vu67.py:15\u001b[0m, in \u001b[0;36mouter_factory.<locals>.inner_factory.<locals>.tf__predict_function\u001b[0;34m(iterator)\u001b[0m\n\u001b[1;32m     13\u001b[0m \u001b[39mtry\u001b[39;00m:\n\u001b[1;32m     14\u001b[0m     do_return \u001b[39m=\u001b[39m \u001b[39mTrue\u001b[39;00m\n\u001b[0;32m---> 15\u001b[0m     retval_ \u001b[39m=\u001b[39m ag__\u001b[39m.\u001b[39mconverted_call(ag__\u001b[39m.\u001b[39mld(step_function), (ag__\u001b[39m.\u001b[39mld(\u001b[39mself\u001b[39m), ag__\u001b[39m.\u001b[39mld(iterator)), \u001b[39mNone\u001b[39;00m, fscope)\n\u001b[1;32m     16\u001b[0m \u001b[39mexcept\u001b[39;00m:\n\u001b[1;32m     17\u001b[0m     do_return \u001b[39m=\u001b[39m \u001b[39mFalse\u001b[39;00m\n",
      "\u001b[0;31mValueError\u001b[0m: in user code:\n\n    File \"/home/erfan/Documents/Projects/o3/recom_system/dev/.env/lib/python3.10/site-packages/keras/src/engine/training.py\", line 2341, in predict_function  *\n        return step_function(self, iterator)\n    File \"/home/erfan/Documents/Projects/o3/recom_system/dev/.env/lib/python3.10/site-packages/keras/src/engine/training.py\", line 2327, in step_function  **\n        outputs = model.distribute_strategy.run(run_step, args=(data,))\n    File \"/home/erfan/Documents/Projects/o3/recom_system/dev/.env/lib/python3.10/site-packages/keras/src/engine/training.py\", line 2315, in run_step  **\n        outputs = model.predict_step(data)\n    File \"/home/erfan/Documents/Projects/o3/recom_system/dev/.env/lib/python3.10/site-packages/keras/src/engine/training.py\", line 2283, in predict_step\n        return self(x, training=False)\n    File \"/home/erfan/Documents/Projects/o3/recom_system/dev/.env/lib/python3.10/site-packages/keras/src/utils/traceback_utils.py\", line 70, in error_handler\n        raise e.with_traceback(filtered_tb) from None\n    File \"/home/erfan/Documents/Projects/o3/recom_system/dev/.env/lib/python3.10/site-packages/keras/src/engine/input_spec.py\", line 219, in assert_input_compatibility\n        raise ValueError(\n\n    ValueError: Layer \"model_1\" expects 2 input(s), but it received 1 input tensors. Inputs received: [<tf.Tensor 'IteratorGetNext:0' shape=(None, 1) dtype=int64>]\n"
     ]
    }
   ],
   "source": [
    "user_id = 2  # Replace with the user ID for whom you want\n",
    "recommendations = get_recommendations(user_id)\n",
    "print(\"Top Recommendations for User\", user_id)\n",
    "print(recommendations)"
   ]
  },
  {
   "cell_type": "code",
   "execution_count": null,
   "metadata": {},
   "outputs": [],
   "source": []
  }
 ],
 "metadata": {
  "kernelspec": {
   "display_name": "Python 3 (ipykernel)",
   "language": "python",
   "name": "python3"
  },
  "language_info": {
   "codemirror_mode": {
    "name": "ipython",
    "version": 3
   },
   "file_extension": ".py",
   "mimetype": "text/x-python",
   "name": "python",
   "nbconvert_exporter": "python",
   "pygments_lexer": "ipython3",
   "version": "3.10.6"
  }
 },
 "nbformat": 4,
 "nbformat_minor": 2
}
