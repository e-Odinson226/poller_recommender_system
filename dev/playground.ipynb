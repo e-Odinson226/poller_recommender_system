{
 "cells": [
  {
   "cell_type": "code",
   "execution_count": 22,
   "metadata": {},
   "outputs": [],
   "source": [
    "import random\n"
   ]
  },
  {
   "cell_type": "code",
   "execution_count": 1,
   "metadata": {},
   "outputs": [],
   "source": [
    "import csv\n",
    "\n",
    "with open(\"../data/polls_synthetic.csv\", 'r') as infile, open(\"../data/polls_synthetic copy.csv\", 'w', newline='') as outfile:\n",
    "    reader = csv.reader(infile)\n",
    "    writer = csv.writer(outfile)\n",
    "    \n",
    "    for row in reader:\n",
    "        \n",
    "        row[3] = '|'.join( list(map(lambda x: x.strip(), row[3:-1])) )[1:-1]\n",
    "        row[4]=(row[-1][1:-1])\n",
    "        writer.writerow(row[:5])\n",
    "        \n",
    "        \n"
   ]
  },
  {
   "cell_type": "code",
   "execution_count": null,
   "metadata": {},
   "outputs": [],
   "source": [
    "ratings = pd.read_csv(\"../data/ml-latest-small/ml-latest-small/ratings.csv\")\n",
    "movie_rating_counts = ratings.groupby([\"movieId\"]).size().reset_index(name='count')\n",
    "\n",
    "movie_rating_counts"
   ]
  }
 ],
 "metadata": {
  "kernelspec": {
   "display_name": ".env",
   "language": "python",
   "name": "python3"
  },
  "language_info": {
   "codemirror_mode": {
    "name": "ipython",
    "version": 3
   },
   "file_extension": ".py",
   "mimetype": "text/x-python",
   "name": "python",
   "nbconvert_exporter": "python",
   "pygments_lexer": "ipython3",
   "version": "3.10.6"
  },
  "orig_nbformat": 4
 },
 "nbformat": 4,
 "nbformat_minor": 2
}
