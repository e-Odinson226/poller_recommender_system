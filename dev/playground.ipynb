{
 "cells": [
  {
   "cell_type": "code",
   "execution_count": 89,
   "metadata": {},
   "outputs": [],
   "source": [
    "import random\n"
   ]
  },
  {
   "cell_type": "code",
   "execution_count": 81,
   "metadata": {},
   "outputs": [],
   "source": [
    "import csv\n",
    "\n",
    "with open(\"../data/polls_synthetic.csv\", 'r') as infile, open(\"../data/polls_synthetic copy.csv\", 'w', newline='') as outfile:\n",
    "    reader = csv.reader(infile)\n",
    "    writer = csv.writer(outfile)\n",
    "    \n",
    "    for row in reader:\n",
    "        #row[3] = '|'.join( list(map(lambda x: x.strip(), row[3:-1])) )\n",
    "        #print(row)\n",
    "        \n",
    "        #check sliced poll title\n",
    "        #for row_l in row[3:]:\n",
    "        #    if (row_l.find('?') != -1):\n",
    "        #        print(row)\n",
    "        #    #print(row)\n",
    "        \n",
    "        \n",
    "        #check sliced poll option\n",
    "        #if row[3].find('[') != -1:\n",
    "        #    row[4] = row[3][row[3].find('[')+1:] +'|'+ row[4]\n",
    "        #    row[3] = row[3][:row[3].find('[')-2]\n",
    "        #    writer.writerow(row)\n",
    "        #else:\n",
    "        #    #row[4]=(row[-1][1:-1])\n",
    "        #    writer.writerow(row)\n",
    "        \n",
    "        \n"
   ]
  },
  {
   "cell_type": "code",
   "execution_count": null,
   "metadata": {},
   "outputs": [],
   "source": [
    "ratings = pd.read_csv(\"../data/ml-latest-small/ml-latest-small/ratings.csv\")\n",
    "movie_rating_counts = ratings.groupby([\"movieId\"]).size().reset_index(name='count')\n",
    "\n",
    "movie_rating_counts\n",
    "\n",
    "counter = {1: 0,\n",
    "           2: 0,\n",
    "           193609: 0,\n",
    "           4: 0}\n",
    "keys = counter.keys()\n",
    "for movie in ratings.itertuples(index=False):\n",
    "    if movie.movieId in keys:\n",
    "        counter[movie.movieId] +=1\n",
    "counter"
   ]
  },
  {
   "cell_type": "code",
   "execution_count": null,
   "metadata": {},
   "outputs": [],
   "source": [
    "plt.figure(figsize=(20,5))\n",
    "\n",
    "sns.distplot(polls['topic'])\n",
    "\n",
    "plt.title(\"Histogram of vote counts\")"
   ]
  },
  {
   "cell_type": "code",
   "execution_count": null,
   "metadata": {},
   "outputs": [],
   "source": [
    "# text-processing\n",
    "#movies =  pd.merge(movies, movie_rating_counts, on=\"movieId\", how='inner')\n",
    "polls = polls[polls['count'].notna()]\n",
    "polls = polls.reset_index(inplace=True)\n",
    "\n",
    "#--------\n",
    "min_votes = np.percentile(movies['count'].values, 85)\n",
    "movies = movies.copy(deep=True).loc[movies['count'] > min_votes]\n",
    "movies"
   ]
  },
  {
   "cell_type": "code",
   "execution_count": null,
   "metadata": {},
   "outputs": [],
   "source": [
    "# processing of overviews\n",
    "\n",
    "def process_text(text):\n",
    "    # replace multiple spaces with one\n",
    "    text = ' '.join(text.split())\n",
    "    # lowercase\n",
    "    text = text.lower()\n",
    "    return text\n",
    "\n",
    "movies['genres'] = movies.apply(lambda x: process_text(x.genres),axis=1)"
   ]
  },
  {
   "cell_type": "code",
   "execution_count": 97,
   "metadata": {},
   "outputs": [],
   "source": [
    "import csv\n",
    "\n",
    "with open(\"../data/polls_synthetic.csv\", 'r') as infile, open(\"../data/polls_synthetic copy.csv\", 'w') as outfile:\n",
    "    reader = csv.reader(infile)\n",
    "    writer = csv.writer(outfile)\n",
    "    \n",
    "    for i, row in enumerate(reader):\n",
    "        \n",
    "        row[0], row[1] = i-1, random.randint(0,10) \n",
    "        \n",
    "        #print(row)\n",
    "        writer.writerow(row)"
   ]
  },
  {
   "cell_type": "code",
   "execution_count": 110,
   "metadata": {},
   "outputs": [
    {
     "ename": "IndexError",
     "evalue": "list index out of range",
     "output_type": "error",
     "traceback": [
      "\u001b[0;31m---------------------------------------------------------------------------\u001b[0m",
      "\u001b[0;31mIndexError\u001b[0m                                Traceback (most recent call last)",
      "Cell \u001b[0;32mIn[110], line 8\u001b[0m\n\u001b[1;32m      6\u001b[0m false_topics \u001b[39m=\u001b[39m [\u001b[39m'\u001b[39m\u001b[39mAgriculture\u001b[39m\u001b[39m'\u001b[39m, \u001b[39m'\u001b[39m\u001b[39mEducation\u001b[39m\u001b[39m'\u001b[39m, \u001b[39m'\u001b[39m\u001b[39mEnvironment\u001b[39m\u001b[39m'\u001b[39m, \u001b[39m'\u001b[39m\u001b[39mEthics\u001b[39m\u001b[39m'\u001b[39m, \u001b[39m'\u001b[39m\u001b[39mExpression\u001b[39m\u001b[39m'\u001b[39m, \u001b[39m'\u001b[39m\u001b[39mHistory\u001b[39m\u001b[39m'\u001b[39m, \u001b[39m'\u001b[39m\u001b[39mSpace\u001b[39m\u001b[39m'\u001b[39m, \u001b[39m'\u001b[39m\u001b[39mTechnology\u001b[39m\u001b[39m'\u001b[39m]\n\u001b[1;32m      7\u001b[0m \u001b[39mfor\u001b[39;00m row \u001b[39min\u001b[39;00m reader:\n\u001b[0;32m----> 8\u001b[0m     \u001b[39mif\u001b[39;00m \u001b[39many\u001b[39m(item \u001b[39min\u001b[39;00m false_topics \u001b[39mfor\u001b[39;00m item \u001b[39min\u001b[39;00m row[\u001b[39m4\u001b[39;49m]\u001b[39m.\u001b[39msplit(\u001b[39m'\u001b[39m\u001b[39m|\u001b[39m\u001b[39m'\u001b[39m)):\n\u001b[1;32m     10\u001b[0m         \u001b[39mprint\u001b[39m(row[\u001b[39m4\u001b[39m]\u001b[39m.\u001b[39msplit(\u001b[39m'\u001b[39m\u001b[39m|\u001b[39m\u001b[39m'\u001b[39m))\n\u001b[1;32m     11\u001b[0m     \u001b[39m#row[3] = '|'.join( list(map(lambda x: x.strip(), row[3:-1])) )\u001b[39;00m\n\u001b[1;32m     12\u001b[0m     \u001b[39m#print(row)\u001b[39;00m\n\u001b[1;32m     13\u001b[0m     \n\u001b[0;32m   (...)\u001b[0m\n\u001b[1;32m     27\u001b[0m     \u001b[39m#    #row[4]=(row[-1][1:-1])\u001b[39;00m\n\u001b[1;32m     28\u001b[0m     \u001b[39m#    writer.writerow(row)\u001b[39;00m\n",
      "\u001b[0;31mIndexError\u001b[0m: list index out of range"
     ]
    }
   ],
   "source": [
    "import csv\n",
    "\n",
    "with open(\"../data/polls_synthetic.csv\", 'r') as infile, open(\"../data/polls_synthetic copy.csv\", 'w', newline='') as outfile:\n",
    "    reader = csv.reader(infile)\n",
    "    writer = csv.writer(outfile)\n",
    "    false_topics = ['Agriculture', 'Education', 'Environment', 'Ethics', 'Expression', 'History', 'Space', 'Technology']\n",
    "    for row in reader:\n",
    "        if any(item in false_topics for item in row[4].split('|')):\n",
    "            \n",
    "            print(row[4].split('|'))\n",
    "        #row[3] = '|'.join( list(map(lambda x: x.strip(), row[3:-1])) )\n",
    "        #print(row)\n",
    "        \n",
    "        #check sliced poll title\n",
    "        #for row_l in row[3:]:\n",
    "        #    if (row_l.find('?') != -1):\n",
    "        #        print(row)\n",
    "        #    #print(row)\n",
    "        \n",
    "        \n",
    "        #check sliced poll option\n",
    "        #if row[3].find('[') != -1:\n",
    "        #    row[4] = row[3][row[3].find('[')+1:] +'|'+ row[4]\n",
    "        #    row[3] = row[3][:row[3].find('[')-2]\n",
    "        #    writer.writerow(row)\n",
    "        #else:\n",
    "        #    #row[4]=(row[-1][1:-1])\n",
    "        #    writer.writerow(row)\n",
    "        \n",
    "        \n"
   ]
  }
 ],
 "metadata": {
  "kernelspec": {
   "display_name": ".env",
   "language": "python",
   "name": "python3"
  },
  "language_info": {
   "codemirror_mode": {
    "name": "ipython",
    "version": 3
   },
   "file_extension": ".py",
   "mimetype": "text/x-python",
   "name": "python",
   "nbconvert_exporter": "python",
   "pygments_lexer": "ipython3",
   "version": "3.10.12"
  },
  "orig_nbformat": 4
 },
 "nbformat": 4,
 "nbformat_minor": 2
}
