{
 "cells": [
  {
   "cell_type": "code",
   "execution_count": 22,
   "metadata": {},
   "outputs": [],
   "source": [
    "import random\n"
   ]
  },
  {
   "cell_type": "code",
   "execution_count": 1,
   "metadata": {},
   "outputs": [],
   "source": [
    "import csv\n",
    "\n",
    "with open(\"../data/polls_synthetic.csv\", 'r') as infile, open(\"../data/polls_synthetic copy.csv\", 'w', newline='') as outfile:\n",
    "    reader = csv.reader(infile)\n",
    "    writer = csv.writer(outfile)\n",
    "    \n",
    "    for row in reader:\n",
    "        \n",
    "        row[3] = '|'.join( list(map(lambda x: x.strip(), row[3:-1])) )[1:-1]\n",
    "        row[4]=(row[-1][1:-1])\n",
    "        writer.writerow(row[:5])\n",
    "        \n",
    "        \n"
   ]
  },
  {
   "cell_type": "code",
   "execution_count": null,
   "metadata": {},
   "outputs": [],
   "source": [
    "ratings = pd.read_csv(\"../data/ml-latest-small/ml-latest-small/ratings.csv\")\n",
    "movie_rating_counts = ratings.groupby([\"movieId\"]).size().reset_index(name='count')\n",
    "\n",
    "movie_rating_counts\n",
    "\n",
    "counter = {1: 0,\n",
    "           2: 0,\n",
    "           193609: 0,\n",
    "           4: 0}\n",
    "keys = counter.keys()\n",
    "for movie in ratings.itertuples(index=False):\n",
    "    if movie.movieId in keys:\n",
    "        counter[movie.movieId] +=1\n",
    "counter"
   ]
  },
  {
   "cell_type": "code",
   "execution_count": null,
   "metadata": {},
   "outputs": [],
   "source": [
    "plt.figure(figsize=(20,5))\n",
    "\n",
    "sns.distplot(polls['topic'])\n",
    "\n",
    "plt.title(\"Histogram of vote counts\")"
   ]
  },
  {
   "cell_type": "code",
   "execution_count": null,
   "metadata": {},
   "outputs": [],
   "source": [
    "# text-processing\n",
    "#movies =  pd.merge(movies, movie_rating_counts, on=\"movieId\", how='inner')\n",
    "polls = polls[polls['count'].notna()]\n",
    "polls\n",
    "#--------\n",
    "min_votes = np.percentile(movies['count'].values, 85)\n",
    "movies = movies.copy(deep=True).loc[movies['count'] > min_votes]\n",
    "movies"
   ]
  },
  {
   "cell_type": "code",
   "execution_count": 18,
   "metadata": {},
   "outputs": [],
   "source": [
    "import csv\n",
    "\n",
    "topics = [\"Tech\",\n",
    "          \"Sport\",\n",
    "          \"Politics\",\n",
    "          \"Science\",\n",
    "          \"Activity\",\n",
    "          \"Art\",\n",
    "          \"Beauty\",\n",
    "          \"Economy\",\n",
    "          \"Fashion\",\n",
    "          \"Food&Drinks\",\n",
    "          \"Fun\",\n",
    "          \"Health\",\n",
    "          \"Music\",\n",
    "          \"Pets\",\n",
    "          \"Travel\",\n",
    "          \"Movies & TV shows\",\n",
    "          \"Home Décor\"\n",
    "          ]\n",
    "with open(\"../data/polls_diverse_topics.csv\", 'r') as infile, open(\"../data/black_board.csv\", 'w') as outfile:\n",
    "    reader = csv.reader(infile)\n",
    "    writer = csv.writer(outfile)\n",
    "    \n",
    "    for row in reader:\n",
    "        #if not all(True for item in row[4].split('|') if item in topics):\n",
    "        #    print(row[0], row[4].split('|') )\n",
    "        \n",
    "        #row[3] = '|'.join( list(map(lambda x: x.strip(), row[3:-1])) )[1:-1]\n",
    "        #row[4]=(row[-1][1:-1])\n",
    "        #writer.writerow(row[:5])\n",
    "        \n",
    "        \n"
   ]
  },
  {
   "cell_type": "code",
   "execution_count": null,
   "metadata": {},
   "outputs": [],
   "source": [
    "# removing rows with missing topic\n",
    "#polls = polls.drop('index', axis=1)\n",
    "#polls = polls[polls['topic'].notna()]\n",
    "#polls.reset_index(inplace=True)\n",
    "polls"
   ]
  }
 ],
 "metadata": {
  "kernelspec": {
   "display_name": ".env",
   "language": "python",
   "name": "python3"
  },
  "language_info": {
   "codemirror_mode": {
    "name": "ipython",
    "version": 3
   },
   "file_extension": ".py",
   "mimetype": "text/x-python",
   "name": "python",
   "nbconvert_exporter": "python",
   "pygments_lexer": "ipython3",
   "version": "3.10.6"
  },
  "orig_nbformat": 4
 },
 "nbformat": 4,
 "nbformat_minor": 2
}
