{
 "cells": [
  {
   "cell_type": "code",
   "execution_count": 1,
   "metadata": {},
   "outputs": [],
   "source": [
    "import pandas as pd\n",
    "import matplotlib.pyplot as plt\n",
    "import seaborn as sns\n",
    "import numpy as np\n",
    "from sklearn.feature_extraction.text import TfidfVectorizer\n",
    "from sklearn.metrics.pairwise import linear_kernel, cosine_similarity"
   ]
  },
  {
   "cell_type": "code",
   "execution_count": 2,
   "metadata": {},
   "outputs": [],
   "source": [
    "import pathlib\n",
    "\n",
    "# pathlib.Path(__file__).parent.resolve()\n",
    "polls = pd.read_csv(\"../data/polls_synthetic.csv\")\n",
    "# ratings = pd.read_csv(\"ratings.csv\")\n",
    "\n",
    "#polls"
   ]
  },
  {
   "cell_type": "code",
   "execution_count": 3,
   "metadata": {},
   "outputs": [],
   "source": [
    "topics = [\"Tech\",\n",
    "          \"Sport\",\n",
    "          \"Politics\",\n",
    "          \"Science\",\n",
    "          \"Activity\",\n",
    "          \"Art\",\n",
    "          \"Beauty\",\n",
    "          \"Economy\",\n",
    "          \"Fashion\",\n",
    "          \"Food&Drinks\",\n",
    "          \"Fun\",\n",
    "          \"Health\",\n",
    "          \"Music\",\n",
    "          \"Pets\",\n",
    "          \"Travel\",\n",
    "          \"Movies & TV shows\",\n",
    "          \"Home Décor\"\n",
    "          ]\n",
    "\n",
    "\n",
    "polls_list = polls[\"topic\"].str.get_dummies(sep=\"|\")\n",
    "\n",
    "\n",
    "\n",
    "#print(len(polls_list.columns), polls_list.columns)\n",
    "\n",
    "#print( [item for item in polls_list.columns if item not in topics] )\n",
    " \n",
    "# Concatenate the binary genre columns back to the 'movies' DataFrame\n",
    "polls = pd.concat([polls, polls_list], axis=1)\n",
    "#polls"
   ]
  },
  {
   "cell_type": "code",
   "execution_count": 12,
   "metadata": {},
   "outputs": [],
   "source": [
    "#polls.set_index('poll_ID', inplace=True)\n",
    "\n",
    "#polls = polls.reset_index() \n",
    "#polls\n"
   ]
  },
  {
   "cell_type": "code",
   "execution_count": 13,
   "metadata": {},
   "outputs": [],
   "source": [
    "for i in range(len(polls)):\n",
    "    if not isinstance(polls.iloc[i, 4], str):\n",
    "        print(polls.iloc[i, 0], polls.iloc[i, 1], polls.iloc[i, 2], polls.iloc[i, 3], polls.iloc[i, 4])\n"
   ]
  },
  {
   "cell_type": "code",
   "execution_count": 14,
   "metadata": {},
   "outputs": [],
   "source": [
    "tf_idf = TfidfVectorizer(stop_words=\"english\")\n",
    "tf_idf_matrix = tf_idf.fit_transform(polls[\"topic\"])"
   ]
  },
  {
   "cell_type": "code",
   "execution_count": 15,
   "metadata": {},
   "outputs": [],
   "source": [
    "cosine_similarity_matrix = cosine_similarity(tf_idf_matrix, tf_idf_matrix)"
   ]
  },
  {
   "cell_type": "code",
   "execution_count": 19,
   "metadata": {},
   "outputs": [
    {
     "data": {
      "text/html": [
       "<div>\n",
       "<style scoped>\n",
       "    .dataframe tbody tr th:only-of-type {\n",
       "        vertical-align: middle;\n",
       "    }\n",
       "\n",
       "    .dataframe tbody tr th {\n",
       "        vertical-align: top;\n",
       "    }\n",
       "\n",
       "    .dataframe thead th {\n",
       "        text-align: right;\n",
       "    }\n",
       "</style>\n",
       "<table border=\"1\" class=\"dataframe\">\n",
       "  <thead>\n",
       "    <tr style=\"text-align: right;\">\n",
       "      <th></th>\n",
       "      <th>poll_ID</th>\n",
       "      <th>author_ID</th>\n",
       "      <th>title</th>\n",
       "      <th>option</th>\n",
       "      <th>topic</th>\n",
       "      <th>Activity</th>\n",
       "      <th>Art</th>\n",
       "      <th>Beauty</th>\n",
       "      <th>Economy</th>\n",
       "      <th>Fashion</th>\n",
       "      <th>...</th>\n",
       "      <th>Health</th>\n",
       "      <th>Home Décor</th>\n",
       "      <th>Movies &amp; TV shows</th>\n",
       "      <th>Music</th>\n",
       "      <th>Pets</th>\n",
       "      <th>Politics</th>\n",
       "      <th>Science</th>\n",
       "      <th>Sport</th>\n",
       "      <th>Tech</th>\n",
       "      <th>Travel</th>\n",
       "    </tr>\n",
       "  </thead>\n",
       "  <tbody>\n",
       "    <tr>\n",
       "      <th>23</th>\n",
       "      <td>23</td>\n",
       "      <td>8</td>\n",
       "      <td>Should there be stricter regulations on social...</td>\n",
       "      <td>Agree|Disagree|Undecided</td>\n",
       "      <td>Politics</td>\n",
       "      <td>0</td>\n",
       "      <td>0</td>\n",
       "      <td>0</td>\n",
       "      <td>0</td>\n",
       "      <td>0</td>\n",
       "      <td>...</td>\n",
       "      <td>0</td>\n",
       "      <td>0</td>\n",
       "      <td>0</td>\n",
       "      <td>0</td>\n",
       "      <td>0</td>\n",
       "      <td>1</td>\n",
       "      <td>0</td>\n",
       "      <td>0</td>\n",
       "      <td>0</td>\n",
       "      <td>0</td>\n",
       "    </tr>\n",
       "  </tbody>\n",
       "</table>\n",
       "<p>1 rows × 22 columns</p>\n",
       "</div>"
      ],
      "text/plain": [
       "    poll_ID  author_ID                                              title  \\\n",
       "23       23          8  Should there be stricter regulations on social...   \n",
       "\n",
       "                      option     topic  Activity  Art  Beauty  Economy  \\\n",
       "23  Agree|Disagree|Undecided  Politics         0    0       0        0   \n",
       "\n",
       "    Fashion  ...  Health  Home Décor  Movies & TV shows  Music  Pets  \\\n",
       "23        0  ...       0           0                  0      0     0   \n",
       "\n",
       "    Politics  Science  Sport  Tech  Travel  \n",
       "23         1        0      0     0       0  \n",
       "\n",
       "[1 rows x 22 columns]"
      ]
     },
     "execution_count": 19,
     "metadata": {},
     "output_type": "execute_result"
    }
   ],
   "source": [
    "def idx_from_title(df, title):\n",
    "    return df[df[\"title\"] == title].index.values[0]\n",
    "\n",
    "\n",
    "# idx_from_title(movies, \"Sabrina (1995)\")\n",
    "\n",
    "\n",
    "def title_from_idx(df, idx):\n",
    "    return df[df.index == idx]\n",
    "\n",
    "\n",
    "title_from_idx(polls, 23)"
   ]
  },
  {
   "cell_type": "code",
   "execution_count": 17,
   "metadata": {},
   "outputs": [],
   "source": [
    "def recommendations(\n",
    "    original_title, df, cosine_similarity_matrix, number_of_recommendations\n",
    "):\n",
    "    index = idx_from_title(df, original_title)\n",
    "    similarity_scores = list(enumerate(cosine_similarity_matrix[index]))\n",
    "    similarity_scores_sorted = sorted(\n",
    "        similarity_scores, key=lambda x: x[1], reverse=True\n",
    "    )\n",
    "    recommendations_indices = [\n",
    "        t[0] for t in similarity_scores_sorted[1 : (number_of_recommendations + 1)]\n",
    "    ]\n",
    "    return df[\"title\"].iloc[recommendations_indices]"
   ]
  },
  {
   "cell_type": "code",
   "execution_count": 20,
   "metadata": {},
   "outputs": [
    {
     "data": {
      "text/plain": [
       "21            What is your opinion on healthcare reform?\n",
       "22     Is climate change a top priority for the gover...\n",
       "23     Should there be stricter regulations on social...\n",
       "24        Do you believe in term limits for politicians?\n",
       "25     Is foreign aid beneficial for diplomatic relat...\n",
       "26               Should the voting age be lowered to 16?\n",
       "27       Do you think campaign finance laws need reform?\n",
       "28          Is the current immigration system effective?\n",
       "29     Should the government invest more in renewable...\n",
       "188    Should Governments Invest More in Space Explor...\n",
       "Name: title, dtype: object"
      ]
     },
     "execution_count": 20,
     "metadata": {},
     "output_type": "execute_result"
    }
   ],
   "source": [
    "# recommendations('Toy Story (1995)', movies, cosine_similarity_matrix, 10)\n",
    "#index = idx_from_title(polls, \"Toy Story (1995)\")\n",
    "index = 23\n",
    "\n",
    "\n",
    "similarity_scores = list(enumerate(cosine_similarity_matrix[index]))\n",
    "similarity_scores_sorted = sorted(similarity_scores, key=lambda x: x[1], reverse=True)\n",
    "recommendations_indices = [t[0] for t in similarity_scores_sorted[1 : (10 + 1)]]\n",
    "polls[\"title\"].iloc[recommendations_indices]"
   ]
  },
  {
   "cell_type": "code",
   "execution_count": null,
   "metadata": {},
   "outputs": [],
   "source": []
  }
 ],
 "metadata": {
  "kernelspec": {
   "display_name": ".env",
   "language": "python",
   "name": "python3"
  },
  "language_info": {
   "codemirror_mode": {
    "name": "ipython",
    "version": 3
   },
   "file_extension": ".py",
   "mimetype": "text/x-python",
   "name": "python",
   "nbconvert_exporter": "python",
   "pygments_lexer": "ipython3",
   "version": "3.10.12"
  },
  "orig_nbformat": 4
 },
 "nbformat": 4,
 "nbformat_minor": 2
}
