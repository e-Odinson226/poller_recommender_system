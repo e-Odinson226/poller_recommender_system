{
 "cells": [
  {
   "cell_type": "code",
   "execution_count": 1,
   "metadata": {},
   "outputs": [
    {
     "name": "stderr",
     "output_type": "stream",
     "text": [
      "2023-07-31 14:10:20.200080: I tensorflow/tsl/cuda/cudart_stub.cc:28] Could not find cuda drivers on your machine, GPU will not be used.\n",
      "2023-07-31 14:10:20.236267: I tensorflow/tsl/cuda/cudart_stub.cc:28] Could not find cuda drivers on your machine, GPU will not be used.\n",
      "2023-07-31 14:10:20.236901: I tensorflow/core/platform/cpu_feature_guard.cc:182] This TensorFlow binary is optimized to use available CPU instructions in performance-critical operations.\n",
      "To enable the following instructions: AVX2 FMA, in other operations, rebuild TensorFlow with the appropriate compiler flags.\n",
      "2023-07-31 14:10:20.833646: W tensorflow/compiler/tf2tensorrt/utils/py_utils.cc:38] TF-TRT Warning: Could not find TensorRT\n"
     ]
    }
   ],
   "source": [
    "import pandas as pd\n",
    "from surprise import SVD\n",
    "from surprise import Dataset, Reader\n",
    "from surprise.model_selection import train_test_split\n",
    "from sklearn.feature_extraction.text import TfidfVectorizer\n",
    "from sklearn.metrics.pairwise import linear_kernel\n",
    "from keras.models import Model\n",
    "from keras.layers import Input, Embedding, Flatten, Dense, Concatenate\n",
    "import numpy as np"
   ]
  },
  {
   "cell_type": "markdown",
   "metadata": {},
   "source": [
    "Load MovieLens dataset as an example"
   ]
  },
  {
   "cell_type": "code",
   "execution_count": 2,
   "metadata": {},
   "outputs": [],
   "source": [
    "movies = pd.read_csv(\"movies.csv\")  # Load movie data (movieId, title, genres)\n",
    "ratings = pd.read_csv(\"ratings.csv\")  # Load user ratings (userId, movieId, rating)"
   ]
  },
  {
   "cell_type": "markdown",
   "metadata": {},
   "source": [
    "Step 1: Data Preprocessing (if applicable, depending on the dataset)<br>\n",
    "Data Processing: Convert genres into binary columns using one-hot encoding<br>\n",
    "Split the 'genres' column containing pipe-separated genres into binary columns for each genre"
   ]
  },
  {
   "cell_type": "code",
   "execution_count": 3,
   "metadata": {},
   "outputs": [],
   "source": [
    "genres_list = movies[\"genres\"].str.get_dummies(sep=\"|\")\n",
    "# Concatenate the binary genre columns back to the 'movies' DataFrame\n",
    "movies = pd.concat([movies, genres_list], axis=1)"
   ]
  },
  {
   "cell_type": "markdown",
   "metadata": {},
   "source": [
    "Step 2: Handling Missing Values (if applicable, depending on the dataset)<br>\n",
    "Handling Missing Values: Fill missing values in the 'rating' column with the mean rating<br>\n",
    "Calculate the mean rating from the 'rating' column"
   ]
  },
  {
   "cell_type": "code",
   "execution_count": 4,
   "metadata": {},
   "outputs": [],
   "source": [
    "mean_rating = ratings[\"rating\"].mean()\n",
    "# Fill the missing values in the 'rating' column with the calculated mean rating\n",
    "ratings[\"rating\"].fillna(mean_rating, inplace=True)"
   ]
  },
  {
   "cell_type": "markdown",
   "metadata": {},
   "source": [
    "Collaborative Filtering with Surprise<br>\n",
    "Step 3: Create a Surprise Reader with the rating scale (minimum and maximum ratings)"
   ]
  },
  {
   "cell_type": "code",
   "execution_count": 5,
   "metadata": {},
   "outputs": [],
   "source": [
    "reader = Reader(rating_scale=(0.5, 5.0))"
   ]
  },
  {
   "cell_type": "markdown",
   "metadata": {},
   "source": [
    "Step 4: Load the user ratings data into a Surprise Dataset using the Reader"
   ]
  },
  {
   "cell_type": "code",
   "execution_count": 6,
   "metadata": {},
   "outputs": [],
   "source": [
    "data = Dataset.load_from_df(ratings[[\"userId\", \"movieId\", \"rating\"]], reader)"
   ]
  },
  {
   "cell_type": "markdown",
   "metadata": {},
   "source": [
    "Step 5: Split the dataset into training and testing sets for evaluation"
   ]
  },
  {
   "cell_type": "code",
   "execution_count": 7,
   "metadata": {},
   "outputs": [],
   "source": [
    "trainset, testset = train_test_split(data, test_size=0.2)"
   ]
  },
  {
   "cell_type": "markdown",
   "metadata": {},
   "source": [
    "Step 6: Use SVD (Singular Value Decomposition) for collaborative filtering"
   ]
  },
  {
   "cell_type": "code",
   "execution_count": 8,
   "metadata": {},
   "outputs": [
    {
     "data": {
      "text/plain": [
       "<surprise.prediction_algorithms.matrix_factorization.SVD at 0x7fda28a63cd0>"
      ]
     },
     "execution_count": 8,
     "metadata": {},
     "output_type": "execute_result"
    }
   ],
   "source": [
    "svd = SVD()\n",
    "svd.fit(trainset)"
   ]
  },
  {
   "cell_type": "markdown",
   "metadata": {},
   "source": [
    "Content-Based Filtering with TF-IDF<br>\n",
    "Step 7: Create a TF-IDF vectorizer for content-based filtering"
   ]
  },
  {
   "cell_type": "code",
   "execution_count": 9,
   "metadata": {},
   "outputs": [],
   "source": [
    "tfidf_vectorizer = TfidfVectorizer(stop_words=\"english\")"
   ]
  },
  {
   "cell_type": "markdown",
   "metadata": {},
   "source": [
    "Step 8: Preprocess the 'genres' column in the 'movies' DataFrame (remove '|' separator)"
   ]
  },
  {
   "cell_type": "code",
   "execution_count": 10,
   "metadata": {},
   "outputs": [],
   "source": [
    "movies[\"genres\"] = movies[\"genres\"].str.replace(\"|\", \" \")"
   ]
  },
  {
   "cell_type": "markdown",
   "metadata": {},
   "source": [
    "Step 9: Create the TF-IDF matrix for content-based filtering using the 'genres' column"
   ]
  },
  {
   "cell_type": "code",
   "execution_count": 11,
   "metadata": {},
   "outputs": [],
   "source": [
    "tfidf_matrix = tfidf_vectorizer.fit_transform(movies[\"genres\"])"
   ]
  },
  {
   "cell_type": "markdown",
   "metadata": {},
   "source": [
    "Step 10: Compute the cosine similarity between TF-IDF vectors for content-based filtering"
   ]
  },
  {
   "cell_type": "code",
   "execution_count": 12,
   "metadata": {},
   "outputs": [],
   "source": [
    "cosine_sim = linear_kernel(tfidf_matrix, tfidf_matrix)"
   ]
  },
  {
   "cell_type": "markdown",
   "metadata": {},
   "source": [
    "Deep Learning Model for Neural Collaborative Filtering (NCF)<br>\n",
    "Step 11: Create a neural collaborative filtering model"
   ]
  },
  {
   "cell_type": "code",
   "execution_count": 14,
   "metadata": {},
   "outputs": [],
   "source": [
    "def create_ncf_model(num_users, num_movies, latent_dim=128):\n",
    "    user_input = Input(shape=(1,))\n",
    "    movie_input = Input(shape=(1,))\n",
    "    user_embedding = Embedding(input_dim=num_users, output_dim=latent_dim, input_length=1)(user_input)\n",
    "    movie_embedding = Embedding(input_dim=num_movies, output_dim=latent_dim, input_length=1)(movie_input)\n",
    "    user_flatten = Flatten()(user_embedding)\n",
    "    movie_flatten = Flatten()(movie_embedding)\n",
    "    concat = Concatenate()([user_flatten, movie_flatten])\n",
    "    dense_1 = Dense(64, activation='relu')(concat)\n",
    "    dense_2 = Dense(32, activation='relu')(dense_1)\n",
    "    output = Dense(1)(dense_2)\n",
    "    model = Model(inputs=[user_input, movie_input], outputs=output)\n",
    "    model.compile(optimizer='adam', loss='mean_squared_error')\n",
    "    return model"
   ]
  },
  {
   "cell_type": "code",
   "execution_count": 1,
   "metadata": {},
   "outputs": [
    {
     "data": {
      "image/png": "[encoded data removed]",
      "text/plain": [
       "<Figure size 1000x600 with 1 Axes>"
      ]
     },
     "metadata": {},
     "output_type": "display_data"
    }
   ],
   "source": [
    "import matplotlib.pyplot as plt\n",
    "\n",
    "# Define the layers and their connections\n",
    "layers = [\n",
    "    {\"name\": \"Input (User)\", \"units\": 1},\n",
    "    {\"name\": \"Input (Movie)\", \"units\": 1},\n",
    "    {\"name\": \"Embedding (User)\", \"units\": \"latent_dim\"},\n",
    "    {\"name\": \"Embedding (Movie)\", \"units\": \"latent_dim\"},\n",
    "    {\"name\": \"Flatten (User)\", \"units\": \"latent_dim\"},\n",
    "    {\"name\": \"Flatten (Movie)\", \"units\": \"latent_dim\"},\n",
    "    {\"name\": \"Concatenate\", \"units\": \"2 * latent_dim\"},\n",
    "    {\"name\": \"Dense (64, relu)\", \"units\": 64},\n",
    "    {\"name\": \"Dense (32, relu)\", \"units\": 32},\n",
    "    {\"name\": \"Dense (1)\", \"units\": 1},\n",
    "]\n",
    "\n",
    "# Create the figure and axis\n",
    "fig, ax = plt.subplots(figsize=(10, 6))\n",
    "\n",
    "# Plot the architecture diagram\n",
    "x_pos = 0.1\n",
    "y_pos = 0.2\n",
    "y_gap = 0.12\n",
    "\n",
    "for layer in layers:\n",
    "    ax.text(x_pos, y_pos, layer[\"name\"], fontsize=12, fontweight='bold', ha='left')\n",
    "    if isinstance(layer[\"units\"], str):\n",
    "        ax.text(x_pos + 0.2, y_pos, f\"({layer['units']})\", fontsize=12, ha='left')\n",
    "    else:\n",
    "        ax.text(x_pos + 0.2, y_pos, f\"({layer['units']})\", fontsize=12, ha='left')\n",
    "    y_pos -= y_gap\n",
    "\n",
    "# Hide the axis ticks and labels\n",
    "ax.set_xticks([])\n",
    "ax.set_yticks([])\n",
    "ax.spines[\"top\"].set_visible(False)\n",
    "ax.spines[\"right\"].set_visible(False)\n",
    "ax.spines[\"bottom\"].set_visible(False)\n",
    "ax.spines[\"left\"].set_visible(False)\n",
    "\n",
    "# Add a title and show the plot\n",
    "ax.set_title(\"Neural Collaborative Filtering (NCF) Model Architecture\", fontsize=16, fontweight='bold')\n",
    "plt.show()\n"
   ]
  },
  {
   "cell_type": "markdown",
   "metadata": {},
   "source": [
    "Step 12: Create user and movie index mapping"
   ]
  },
  {
   "cell_type": "code",
   "execution_count": null,
   "metadata": {},
   "outputs": [],
   "source": [
    "user_to_idx = {user_id: idx for idx, user_id in enumerate(ratings[\"userId\"].unique())}\n",
    "movie_to_idx = {movie_id: idx for idx, movie_id in enumerate(ratings[\"movieId\"].unique())}"
   ]
  },
  {
   "cell_type": "markdown",
   "metadata": {},
   "source": [
    "Step 15: Train the model using real data<br>\n",
    "Map user and movie IDs to their respective indices for training"
   ]
  },
  {
   "cell_type": "code",
   "execution_count": null,
   "metadata": {},
   "outputs": [],
   "source": [
    "X_train_user_indices = ratings[\"userId\"].map(user_to_idx)\n",
    "X_train_movie_indices = ratings[\"movieId\"].map(movie_to_idx)"
   ]
  },
  {
   "cell_type": "markdown",
   "metadata": {},
   "source": [
    "Use the same ratings data for the target labels"
   ]
  },
  {
   "cell_type": "code",
   "execution_count": null,
   "metadata": {},
   "outputs": [],
   "source": [
    "y_train = ratings[\"rating\"]"
   ]
  },
  {
   "cell_type": "markdown",
   "metadata": {},
   "source": [
    "Create the NCF model"
   ]
  },
  {
   "cell_type": "code",
   "execution_count": null,
   "metadata": {},
   "outputs": [],
   "source": [
    "ncf_model = create_ncf_model(num_users=len(user_to_idx), num_movies=len(movie_to_idx))"
   ]
  },
  {
   "cell_type": "markdown",
   "metadata": {},
   "source": [
    "Train the NCF model using user and movie indices"
   ]
  },
  {
   "cell_type": "code",
   "execution_count": null,
   "metadata": {},
   "outputs": [],
   "source": [
    "ncf_model.fit([X_train_user_indices, X_train_movie_indices], y_train, epochs=10, batch_size=64)"
   ]
  },
  {
   "cell_type": "markdown",
   "metadata": {},
   "source": [
    "Modified Optimized Recommendation Function to use NCF Model"
   ]
  },
  {
   "cell_type": "code",
   "execution_count": null,
   "metadata": {},
   "outputs": [],
   "source": [
    "def get_recommendations(user_id, num_recommendations=10):\n",
    "    # Collaborative Filtering with NCF\n",
    "    # Get the movies watched by the user with 'user_id' from the 'ratings' DataFrame\n",
    "    user_movies = ratings[ratings[\"userId\"] == user_id][\"movieId\"]\n",
    "    # Convert user and movie IDs to their respective indices for NCF model\n",
    "    user_idx = user_to_idx[user_id]\n",
    "    movie_indices = [movie_to_idx[movie_id] for movie_id in user_movies]\n",
    "\n",
    "    # Predict ratings for the user and unrated movies using the NCF model\n",
    "    user_ratings = [ncf_model.predict([[user_idx], [movie_idx]])[0][0] for movie_idx in range(len(movie_to_idx))]\n",
    "    unrated_movies = [movie_idx for movie_idx in range(len(movie_to_idx)) if movie_idx not in movie_indices]\n",
    "\n",
    "    # Combine Collaborative and Content-Based Recommendations (same as before)\n",
    "    collab_recommendations = [\n",
    "        (movieId, svd.predict(user_id, movieId).est)\n",
    "        for movieId in movies[\"movieId\"]\n",
    "        if movieId not in user_movies\n",
    "    ]\n",
    "    collab_recommendations.sort(key=lambda x: x[1], reverse=True)\n",
    "    movie_indices = [\n",
    "        movies[movies[\"movieId\"] == movie_id].index[0] for movie_id in user_movies\n",
    "    ]\n",
    "    similar_movies = list(enumerate(cosine_sim[movie_indices[-1]]))\n",
    "    content_predictions = [\n",
    "        (movies.iloc[i][\"movieId\"], score)\n",
    "        for i, score in similar_movies\n",
    "        if i not in movie_indices\n",
    "    ]\n",
    "    content_predictions.sort(key=lambda x: x[1], reverse=True)\n",
    "\n",
    "    # Combine collaborative and content-based recommendations, giving priority to collaborative filtering\n",
    "    hybrid_recommendations = (\n",
    "        collab_recommendations[:num_recommendations]\n",
    "        + content_predictions[:num_recommendations]\n",
    "    )\n",
    "    hybrid_recommendations.sort(key=lambda x: x[1], reverse=True)\n",
    "\n",
    "    # Return the movieIds of the top 'num_recommendations' hybrid recommendations\n",
    "    return [movie_id for movie_id, _ in hybrid_recommendations][:num_recommendations]"
   ]
  },
  {
   "cell_type": "markdown",
   "metadata": {},
   "source": [
    "Example Usage:"
   ]
  },
  {
   "cell_type": "code",
   "execution_count": null,
   "metadata": {},
   "outputs": [],
   "source": [
    "user_id = 1  # Replace with the user ID for whom you want"
   ]
  }
 ],
 "metadata": {
  "kernelspec": {
   "display_name": "Python 3 (ipykernel)",
   "language": "python",
   "name": "python3"
  },
  "language_info": {
   "codemirror_mode": {
    "name": "ipython",
    "version": 3
   },
   "file_extension": ".py",
   "mimetype": "text/x-python",
   "name": "python",
   "nbconvert_exporter": "python",
   "pygments_lexer": "ipython3",
   "version": "3.10.6"
  }
 },
 "nbformat": 4,
 "nbformat_minor": 2
}
