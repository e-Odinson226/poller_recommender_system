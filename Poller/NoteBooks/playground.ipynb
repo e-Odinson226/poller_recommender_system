{
 "cells": [
  {
   "cell_type": "code",
   "execution_count": 4,
   "metadata": {},
   "outputs": [
    {
     "data": {
      "text/plain": [
       "ObjectApiResponse({'userpollinteractions': {'aliases': {}, 'mappings': {'properties': {'userId': {'type': 'text', 'fields': {'keyword': {'type': 'keyword', 'ignore_above': 256}}}, 'userPollActions': {'properties': {'actionType': {'type': 'text', 'fields': {'keyword': {'type': 'keyword', 'ignore_above': 256}}}, 'createdAt': {'type': 'date'}, 'pollId': {'type': 'text', 'fields': {'keyword': {'type': 'keyword', 'ignore_above': 256}}}}}}}, 'settings': {'index': {'creation_date_string': '2023-09-28T11:35:23.268Z', 'routing': {'allocation': {'include': {'_tier_preference': 'data_content'}}}, 'number_of_shards': '1', 'provided_name': 'userpollinteractions', 'creation_date': '1695900923268', 'number_of_replicas': '1', 'uuid': 'kwSuQhk9QYuH5kycp7JtYA', 'version': {'created_string': '8090199', 'created': '8090199'}}}}})"
      ]
     },
     "execution_count": 4,
     "metadata": {},
     "output_type": "execute_result"
    }
   ],
   "source": [
    "from elasticsearch import Elasticsearch\n",
    "\n",
    "elasticsearch_url = \"https://159.203.183.251:9200\"\n",
    "username = \"pollett\"\n",
    "password = \"9r0&rJP@19GY\"\n",
    "fingerprint = \"CE:AA:F7:FF:04:C7:31:14:78:9C:62:D4:CE:98:F9:EF:56:DA:70:45:37:14:E3:F8:66:0A:25:ED:05:04:83:ec\"\n",
    "\n",
    "\n",
    "\n",
    "elastic_handle = Elasticsearch(\n",
    "            hosts=elasticsearch_url,\n",
    "            basic_auth=(username, password),\n",
    "            ssl_assert_fingerprint=fingerprint,\n",
    "        )\n",
    "# Use the cat.indices API to list all index names\n",
    "index_names = elastic_handle.indices.get(index=\"userpollinteractions\", human=True)\n",
    "index_names\n",
    "\n",
    "# Extract the list of index names\n",
    "#index_list = [index['index'] for index in index_names]\n",
    "#index_list\n"
   ]
  },
  {
   "cell_type": "code",
   "execution_count": null,
   "metadata": {},
   "outputs": [],
   "source": [
    "\n",
    "while True:\n",
    "    # query = {\"query\": {\"match_all\": {}}, \"size\": batch_size, \"from\": from_index}\n",
    "    results = self.client.search(\n",
    "        index=index_name,\n",
    "        query={\"match_all\": {}},\n",
    "        size=batch_size,\n",
    "        from_=from_index,\n",
    "    )\n",
    "    instances = results[\"hits\"][\"hits\"]\n",
    "\n",
    "    all_instances.extend(instances)\n",
    "    from_index += batch_size\n",
    "    if len(instances) < 100:\n",
    "        break\n",
    "\n",
    "setattr(self, index_name, [instance[\"_source\"] for instance in all_instances])\n",
    "return getattr(self, index_name)"
   ]
  }
 ],
 "metadata": {
  "kernelspec": {
   "display_name": ".env",
   "language": "python",
   "name": "python3"
  },
  "language_info": {
   "codemirror_mode": {
    "name": "ipython",
    "version": 3
   },
   "file_extension": ".py",
   "mimetype": "text/x-python",
   "name": "python",
   "nbconvert_exporter": "python",
   "pygments_lexer": "ipython3",
   "version": "3.10.12"
  },
  "orig_nbformat": 4
 },
 "nbformat": 4,
 "nbformat_minor": 2
}
