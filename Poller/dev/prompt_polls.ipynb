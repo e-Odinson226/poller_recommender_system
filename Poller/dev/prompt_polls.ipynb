{
 "cells": [
  {
   "cell_type": "code",
   "execution_count": 6,
   "metadata": {},
   "outputs": [
    {
     "name": "stdout",
     "output_type": "stream",
     "text": [
      "curie-search-query\n"
     ]
    }
   ],
   "source": [
    "import os\n",
    "import openai\n",
    "import pickle\n",
    "\n",
    "openai.api_key = os.getenv(\"OPENAI_API_KEY\")\n",
    "models = openai.Model.list()\n",
    "print(models.data[0].id)"
   ]
  },
  {
   "cell_type": "code",
   "execution_count": 16,
   "metadata": {},
   "outputs": [
    {
     "data": {
      "text/plain": [
       "'{\\n    \"combinations\": [\\n        [\"Tech\", \"Sport\"],\\n        [\"Politics\", \"Science\"],\\n        [\"Activity\", \"Art\"],\\n        [\"Beauty\", \"Economy\"],\\n        [\"Fashion\", \"Food&Drinks\"],\\n        [\"Fun\", \"Health\"],\\n        [\"Music\", \"Pets\"],\\n        [\"Travel\", \"Movies & TV shows\"],\\n        [\"Home Décor\", \"Tech\"],\\n        [\"Science\", \"Activity\"],\\n        [\"Art\", \"Beauty\"],\\n        [\"Economy\", \"Fashion\"],\\n        [\"Food&Drinks\", \"Fun\"],\\n        [\"Health\", \"Music\"],\\n        [\"Pets\", \"Travel\"],\\n        [\"Movies & TV shows\", \"Home Décor\"],\\n        [\"Sport\", \"Politics\"],\\n        [\"Activity\", \"Tech\"],\\n        [\"Beauty\", \"Science\"],\\n        [\"Economy\", \"Activity\"],\\n        [\"Fun\", \"Fashion\"],\\n        [\"Health\", \"Food&Drinks\"],\\n        [\"Music\", \"Travel\"],\\n        [\"Home Décor\", \"Pets\"],\\n        [\"Tech\", \"Movies & TV shows\"],\\n        [\"Science\", \"Sport\"],\\n        [\"Art\", \"Politics\"],\\n        [\"Economy\", \"Beauty\"],\\n        [\"Food&Drinks\", \"Health\"],\\n        [\"Travel\", \"Music\"],\\n        [\"Pets\", \"Home Décor\"]\\n    ]\\n}'"
      ]
     },
     "execution_count": 16,
     "metadata": {},
     "output_type": "execute_result"
    }
   ],
   "source": [
    "# *if new combination list required...\n",
    "topics = [\"Tech\",\n",
    "          \"Sport\",\n",
    "          \"Politics\",\n",
    "          \"Science\",\n",
    "          \"Activity\",\n",
    "          \"Art\",\n",
    "          \"Beauty\",\n",
    "          \"Economy\",\n",
    "          \"Fashion\",\n",
    "          \"Food&Drinks\",\n",
    "          \"Fun\",\n",
    "          \"Health\",\n",
    "          \"Music\",\n",
    "          \"Pets\",\n",
    "          \"Travel\",\n",
    "          \"Movies & TV shows\",\n",
    "          \"Home Décor\"\n",
    "          ]\n",
    "\n",
    "answer =[]\n",
    "\n",
    "prompt = f\"\"\"\n",
    "    generate 30 distinct, meaningful, and relatable combination of topics,\n",
    "    for example: [travel, activity] or [Fun, Art],\n",
    "    from this list of topics:    \n",
    "    {topics}\n",
    "    \n",
    "    only and only use topics from presented topic list,\n",
    "    make sure you do not repeat any combination,\n",
    "    give your answer inside a json.\n",
    "\n",
    "\"\"\"\n",
    "\n",
    "get_topic = openai.ChatCompletion.create(\n",
    "    model=\"gpt-3.5-turbo\",\n",
    "    messages=[\n",
    "        {\"role\": \"user\",\n",
    "        \"content\":\n",
    "            prompt}])\n",
    "\n",
    "import json \n",
    "\n",
    "comb_dic = json.loads(get_topic['choices'][0]['message'].content) #.split('\\n')\n",
    "get_topic['choices'][0]['message'].content"
   ]
  },
  {
   "cell_type": "code",
   "execution_count": 12,
   "metadata": {},
   "outputs": [
    {
     "data": {
      "text/plain": [
       "[['Tech', 'Sport'],\n",
       " ['Politics', 'Science'],\n",
       " ['Activity', 'Art'],\n",
       " ['Beauty', 'Economy'],\n",
       " ['Fashion', 'Food&Drinks'],\n",
       " ['Fun', 'Health'],\n",
       " ['Music', 'Pets'],\n",
       " ['Travel', 'Movies & TV shows'],\n",
       " ['Home Décor', 'Tech'],\n",
       " ['Sport', 'Politics'],\n",
       " ['Science', 'Activity'],\n",
       " ['Art', 'Beauty'],\n",
       " ['Economy', 'Fashion'],\n",
       " ['Food&Drinks', 'Fun'],\n",
       " ['Health', 'Music'],\n",
       " ['Pets', 'Travel'],\n",
       " ['Movies & TV shows', 'Home Décor'],\n",
       " ['Tech', 'Science'],\n",
       " ['Activity', 'Beauty'],\n",
       " ['Economy', 'Fun'],\n",
       " ['Health', 'Pets'],\n",
       " ['Movies & TV shows', 'Fashion'],\n",
       " ['Sport', 'Art'],\n",
       " ['Politics', 'Food&Drinks'],\n",
       " ['Music', 'Travel'],\n",
       " ['Tech', 'Fashion'],\n",
       " ['Art', 'Health'],\n",
       " ['Beauty', 'Movies & TV shows'],\n",
       " ['Pets', 'Activity'],\n",
       " ['Home Décor', 'Food&Drinks']]"
      ]
     },
     "execution_count": 12,
     "metadata": {},
     "output_type": "execute_result"
    }
   ],
   "source": [
    "combinations = comb_dic.get(\"combinations\")\n",
    "combinations = list(comb_dic.values())\n",
    "combinations"
   ]
  },
  {
   "cell_type": "code",
   "execution_count": 14,
   "metadata": {},
   "outputs": [],
   "source": [
    "# if new combination generated in previous cells, run this cell\n",
    "#with open(f'combinations.pickle', 'wb') as file:\n",
    "#    pickle.dump(combinations, file)\n"
   ]
  },
  {
   "cell_type": "code",
   "execution_count": 17,
   "metadata": {},
   "outputs": [],
   "source": [
    "with open(f'combinations.pickle', 'rb') as file:\n",
    "    combinations = pickle.load(file)\n"
   ]
  },
  {
   "cell_type": "code",
   "execution_count": null,
   "metadata": {},
   "outputs": [],
   "source": [
    "#  TEST\n",
    "#import json\n",
    "#\n",
    "#prompt = f\"\"\"\\\n",
    "#        Create a CSV with 200 meaningful and profound polls that seamlessly blend topics of {combinations[0][0]} and {combinations[0][1]} within the same question.\\\n",
    "#        with the following columns: id,question(poll_question),options(multiple options seperated with '|' ),topics(exact provided topics seperated with '|' ).\\\n",
    "#        Ensure that the poll questions and their options sound humanlike and natural.\\\n",
    "#        \"\"\"\n",
    "#print(f\"\\n-----------------------------\\nPrompting: for polls with topic of {combinations[0][0], combinations[0][1]}...\")\n",
    "#print(prompt)\n",
    "#test_gen_polls = openai.ChatCompletion.create(\n",
    "#    model=\"gpt-3.5-turbo\",\n",
    "#    messages=[\n",
    "#        {\"role\": \"user\",\n",
    "#        \"content\":\n",
    "#            prompt}],\n",
    "#    )\n",
    "#\n",
    "#\n",
    "#"
   ]
  },
  {
   "cell_type": "code",
   "execution_count": null,
   "metadata": {},
   "outputs": [],
   "source": [
    "#  TEST\n",
    "#resp = test_gen_polls['choices'][0]['message']['content']\n",
    "#\n",
    "#polls = [r for r in resp.split(\"\\n\")]\n",
    "#\n",
    "#with open(f'polls.pickle', 'wb') as file:\n",
    "#    pickle.dump(polls, file)\n",
    "#    \n",
    "#polls"
   ]
  },
  {
   "cell_type": "code",
   "execution_count": 19,
   "metadata": {},
   "outputs": [
    {
     "name": "stdout",
     "output_type": "stream",
     "text": [
      "\n",
      "-----------------------------\n",
      "Prompting: for polls with topic of ['Tech', 'Sport']...\n",
      "Prompt response retreived successfully.\n",
      "\n",
      "-----------------------------\n",
      "Prompting: for polls with topic of ['Politics', 'Science']...\n",
      "Prompt response retreived successfully.\n",
      "\n",
      "-----------------------------\n",
      "Prompting: for polls with topic of ['Activity', 'Art']...\n",
      "Prompt response retreived successfully.\n",
      "\n",
      "-----------------------------\n",
      "Prompting: for polls with topic of ['Beauty', 'Economy']...\n",
      "Prompt response retreived successfully.\n",
      "\n",
      "-----------------------------\n",
      "Prompting: for polls with topic of ['Fashion', 'Food&Drinks']...\n"
     ]
    }
   ],
   "source": [
    "import json \n",
    "\n",
    "all_polls = []\n",
    "\n",
    "for comb in combinations:\n",
    "    prompt = f\"\"\"\\\n",
    "        Create a CSV with 200 meaningful and profound polls that seamlessly blend topics of {comb[0]} and {comb[1]} within the same question.\\\n",
    "        with the following columns: id,question(poll_question),options(multiple options seperated with '|' ),topics(exact provided topics seperated with '|' ).\\\n",
    "        Ensure that the poll questions and their options sound humanlike and natural.\\\n",
    "        \"\"\"\n",
    "    print(f\"\\n-----------------------------\\nPrompting: for polls with topic of {comb}...\")\n",
    "        \n",
    "    gen_polls = openai.ChatCompletion.create(\n",
    "        model=\"gpt-3.5-turbo\",\n",
    "        messages=[\n",
    "            {\"role\": \"user\",\n",
    "            \"content\":\n",
    "                prompt}],\n",
    "        )\n",
    "    \n",
    "    print(f\"Prompt response retreived successfully.\")\n",
    "    resp = gen_polls['choices'][0]['message']['content']\n",
    "    polls = [r for r in resp.split(\"\\n\")]\n",
    "    \n",
    "        \n",
    "    with open(f'{comb[0]}_{comb[1]}.pickle', 'wb') as file:\n",
    "        pickle.dump({f'{comb[0]}_{comb[1]}':polls}, file)\n",
    "    all_polls.append({f'{comb[0]}_{comb[1]}':polls})\n"
   ]
  },
  {
   "cell_type": "code",
   "execution_count": null,
   "metadata": {},
   "outputs": [],
   "source": []
  }
 ],
 "metadata": {
  "kernelspec": {
   "display_name": ".env",
   "language": "python",
   "name": "python3"
  },
  "language_info": {
   "codemirror_mode": {
    "name": "ipython",
    "version": 3
   },
   "file_extension": ".py",
   "mimetype": "text/x-python",
   "name": "python",
   "nbconvert_exporter": "python",
   "pygments_lexer": "ipython3",
   "version": "3.10.12"
  },
  "orig_nbformat": 4
 },
 "nbformat": 4,
 "nbformat_minor": 2
}
