{
 "cells": [
  {
   "cell_type": "code",
   "execution_count": 2,
   "metadata": {},
   "outputs": [],
   "source": [
    "import os\n",
    "import openai\n",
    "import pickle\n",
    "\n"
   ]
  },
  {
   "cell_type": "code",
   "execution_count": 74,
   "metadata": {},
   "outputs": [
    {
     "data": {
      "text/plain": [
       "3528"
      ]
     },
     "execution_count": 74,
     "metadata": {},
     "output_type": "execute_result"
    }
   ],
   "source": [
    "import os\n",
    "import pickle\n",
    "\n",
    "def get_objects(pickles_dir):\n",
    "    loaded_objects=[]\n",
    "    for filename in os.listdir(pickles_dir):\n",
    "        if filename.endswith('.pickle'):  # Check if the file has a .pkl extension\n",
    "            file_path = os.path.join(pickles_dir, filename)\n",
    "            with open(file_path, 'rb') as file:\n",
    "                loaded_object = pickle.load(file)\n",
    "                loaded_objects.append(loaded_object)\n",
    "                \n",
    "    return loaded_objects\n",
    "\n",
    "objects1 = get_objects(str(os.getcwd()) + \"/pickle_temp\")\n",
    "objects2 = get_objects(str(os.getcwd()) + \"/pickles\")\n",
    "\n",
    "#keys = [obj.keys() for obj in loaded_objects]\n",
    "objects = []\n",
    "objects.append({\"Science_Activity\":objects1[0].get(\"Science_Activity\")[2:-2]})\n",
    "objects.append({\"Pets_Travel\":objects1[1].get(\"Pets_Travel\")})\n",
    "objects.append({\"Economy_Fashion\":objects1[2].get(\"Economy_Fashion\")[2:-2]})\n",
    "objects.append({\"Art_Beauty\":objects1[3].get(\"Art_Beauty\")})\n",
    "objects.append({\"Fashion_Fun\":objects1[4].get(\"Fashion_Fun\")})\n",
    "#print(len(objects))\n",
    "#print(len(objects2))\n",
    "\n",
    "for obj in objects:\n",
    "    objects2.append(obj)\n",
    "\n",
    "for index, topic_comb in enumerate(objects2):\n",
    "    topic_comb_title = list(topic_comb.keys())[0]\n",
    "    topic_comb_list = topic_comb.get(topic_comb_title)\n",
    "    if topic_comb_title in [\"Art_Beauty\",\n",
    "                              \"Fashion_Food&Drinks\"]:\n",
    "        \n",
    "        #print(topic_comb_title)\n",
    "        topic_comb[list(objects2[index].keys())[0]] = topic_comb_list[3:-1]\n",
    "        #print(objects2[index])\n",
    "    else:\n",
    "        topic_comb[list(objects2[index].keys())[0]] = topic_comb_list[1:-1]\n",
    "    \n",
    "polls_list = []\n",
    "for topic_comb in objects2:\n",
    "    topic_comb_title = list(topic_comb.keys())[0]\n",
    "    topic_comb_list = topic_comb.get(topic_comb_title)\n",
    "    polls_list.extend(topic_comb_list)\n",
    "#objects1[3].get(\"Art_Beauty\")\n",
    "len(polls_list)\n"
   ]
  },
  {
   "cell_type": "code",
   "execution_count": null,
   "metadata": {},
   "outputs": [],
   "source": [
    "import csv\n",
    "\n",
    "all_items = 0\n",
    "\n",
    "with open(\"polls.csv\", 'w', encoding='UTF8', newline='') as file:\n",
    "    writer = csv.writer(file)\n",
    "\n",
    "    for topic_combination_dict in loaded_objects:\n",
    "        print(list(topic_combination_dict.keys())[0])\n",
    "        \n",
    "        for poll in list(topic_combination_dict.values())[0][1:-1]:\n",
    "            #row = f\"{len(poll.split(',')[1:])}: {','.join(poll.split(',')[1:])}\"\n",
    "            #sectors = len(poll.split(',')[1:])\n",
    "            #row = poll.split(',')[1:]\n",
    "            #\n",
    "            ## 2,What is your go-to healthy lunch option?|Grilled chicken salad|Quinoa and vegetable stir-fry|Tuna wrap with fresh veggies|Vegetable and lentil soup,Health|Fun\n",
    "            #if sectors == 2:\n",
    "            #    q_o = row[0].split(\"?\")\n",
    "            #    q = q_o[0] + (\"?\")\n",
    "            #    o = q_o[1].split(\"|\")[1:]\n",
    "            #    pol = [q,o, row[1]]\n",
    "            #    \n",
    "            #    \n",
    "            ## 3,Which lighting option appeals to you more: smart LED lights or elegant chandeliers?,Smart LED Lights|Elegant Chandeliers,Home Décor|Tech\n",
    "            #elif sectors == 3:\n",
    "            #    q = row[0]\n",
    "            #    o = row[1]\n",
    "            #    t = row[2]\n",
    "            #    pol = [q, o, t]\n",
    "            #    \n",
    "            ## 4,If given a choice, would you buy an ultramodern coffee maker or a vintage espresso machine?,Ultramodern Coffee Maker|Vintage Espresso Machine,Home Décor|Tech\n",
    "            #elif sectors == 4:\n",
    "            #    q = row[0] + ', ' + row[1]\n",
    "            #    o = row[2]\n",
    "            #    t = row[3]\n",
    "            #    pol = [q, o, t]\n",
    "            #else:\n",
    "            #    print(row)\n",
    "            #pol.insert(0, sectors)\n",
    "            ##print(pol)\n",
    "            #\n",
    "            #writer.writerow(pol)\n",
    "\n",
    "            #print(f\"{len(poll.split(',')[1:])}: {','.join(poll.split(',')[1:])}\")\n",
    "        #print(list(obj.values())[0][1:][0])\n",
    "        #print(obj)\n",
    "        #print(len(list(obj.values())[0]), list(obj.keys()))\n",
    "        all_items +=len(list(topic_combination_dict.values())[0])\n",
    "    \n",
    "loaded_objects"
   ]
  },
  {
   "cell_type": "code",
   "execution_count": null,
   "metadata": {},
   "outputs": [],
   "source": []
  },
  {
   "cell_type": "code",
   "execution_count": null,
   "metadata": {},
   "outputs": [],
   "source": []
  }
 ],
 "metadata": {
  "kernelspec": {
   "display_name": ".env",
   "language": "python",
   "name": "python3"
  },
  "language_info": {
   "codemirror_mode": {
    "name": "ipython",
    "version": 3
   },
   "file_extension": ".py",
   "mimetype": "text/x-python",
   "name": "python",
   "nbconvert_exporter": "python",
   "pygments_lexer": "ipython3",
   "version": "3.10.12"
  },
  "orig_nbformat": 4
 },
 "nbformat": 4,
 "nbformat_minor": 2
}
